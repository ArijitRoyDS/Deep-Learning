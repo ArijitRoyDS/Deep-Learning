{
 "cells": [
  {
   "cell_type": "markdown",
   "metadata": {},
   "source": [
    "# Normalization"
   ]
  },
  {
   "cell_type": "markdown",
   "metadata": {},
   "source": [
    "Normalization plays a crucial role in deep learning, specifically when it comes to preprocessing the input data or normalizing the activations within the neural network layers. Normalization is performed to ensure that the input features or activations fall within a similar scale or range, which can help improve the training process and overall model performance. There are different techniques for normalization in deep learning, such as:\n",
    "\n",
    "1) Input Normalization\n",
    "\n",
    "2) Batch Normalization\n",
    "\n",
    "3) Layer Normalization"
   ]
  },
  {
   "cell_type": "markdown",
   "metadata": {},
   "source": [
    "# 1) Input Normalization:"
   ]
  },
  {
   "cell_type": "markdown",
   "metadata": {},
   "source": [
    "Input normalization refers to scaling the input features to a common scale before feeding them into the neural network.\n",
    "It helps in achieving faster convergence during training and prevents some features from dominating others due to differences in scale.\n",
    "Common methods for input normalization include Min-Max scaling, Standardization (Z-score normalization), and Unit Norm normalization."
   ]
  },
  {
   "cell_type": "code",
   "execution_count": 1,
   "metadata": {
    "id": "_X8tl_A9ANid"
   },
   "outputs": [],
   "source": [
    "import numpy as np\n",
    "import pandas as pd\n",
    "import matplotlib.pyplot as plt\n",
    "import seaborn as sns"
   ]
  },
  {
   "cell_type": "code",
   "execution_count": 2,
   "metadata": {
    "id": "dwfpoVGBAa8t"
   },
   "outputs": [],
   "source": [
    "# Load the dataset\n",
    "df = pd.read_csv('Data/Social_Network_Ads.csv')"
   ]
  },
  {
   "cell_type": "code",
   "execution_count": 3,
   "metadata": {
    "colab": {
     "base_uri": "https://localhost:8080/",
     "height": 206
    },
    "id": "SilZ1c8-AbCO",
    "outputId": "10d718d0-dc42-4d57-a164-6bbb87e31a77"
   },
   "outputs": [
    {
     "data": {
      "text/html": [
       "<div>\n",
       "<style scoped>\n",
       "    .dataframe tbody tr th:only-of-type {\n",
       "        vertical-align: middle;\n",
       "    }\n",
       "\n",
       "    .dataframe tbody tr th {\n",
       "        vertical-align: top;\n",
       "    }\n",
       "\n",
       "    .dataframe thead th {\n",
       "        text-align: right;\n",
       "    }\n",
       "</style>\n",
       "<table border=\"1\" class=\"dataframe\">\n",
       "  <thead>\n",
       "    <tr style=\"text-align: right;\">\n",
       "      <th></th>\n",
       "      <th>User ID</th>\n",
       "      <th>Gender</th>\n",
       "      <th>Age</th>\n",
       "      <th>EstimatedSalary</th>\n",
       "      <th>Purchased</th>\n",
       "    </tr>\n",
       "  </thead>\n",
       "  <tbody>\n",
       "    <tr>\n",
       "      <th>0</th>\n",
       "      <td>15624510</td>\n",
       "      <td>Male</td>\n",
       "      <td>19.0</td>\n",
       "      <td>19000.0</td>\n",
       "      <td>0</td>\n",
       "    </tr>\n",
       "    <tr>\n",
       "      <th>1</th>\n",
       "      <td>15810944</td>\n",
       "      <td>Male</td>\n",
       "      <td>35.0</td>\n",
       "      <td>20000.0</td>\n",
       "      <td>0</td>\n",
       "    </tr>\n",
       "    <tr>\n",
       "      <th>2</th>\n",
       "      <td>15668575</td>\n",
       "      <td>Female</td>\n",
       "      <td>26.0</td>\n",
       "      <td>43000.0</td>\n",
       "      <td>0</td>\n",
       "    </tr>\n",
       "    <tr>\n",
       "      <th>3</th>\n",
       "      <td>15603246</td>\n",
       "      <td>Female</td>\n",
       "      <td>27.0</td>\n",
       "      <td>57000.0</td>\n",
       "      <td>0</td>\n",
       "    </tr>\n",
       "    <tr>\n",
       "      <th>4</th>\n",
       "      <td>15804002</td>\n",
       "      <td>Male</td>\n",
       "      <td>19.0</td>\n",
       "      <td>76000.0</td>\n",
       "      <td>0</td>\n",
       "    </tr>\n",
       "  </tbody>\n",
       "</table>\n",
       "</div>"
      ],
      "text/plain": [
       "    User ID  Gender   Age  EstimatedSalary  Purchased\n",
       "0  15624510    Male  19.0          19000.0          0\n",
       "1  15810944    Male  35.0          20000.0          0\n",
       "2  15668575  Female  26.0          43000.0          0\n",
       "3  15603246  Female  27.0          57000.0          0\n",
       "4  15804002    Male  19.0          76000.0          0"
      ]
     },
     "execution_count": 3,
     "metadata": {},
     "output_type": "execute_result"
    }
   ],
   "source": [
    "df.head()"
   ]
  },
  {
   "cell_type": "code",
   "execution_count": 4,
   "metadata": {
    "colab": {
     "base_uri": "https://localhost:8080/"
    },
    "id": "hgf939EYAbGV",
    "outputId": "5d565516-df2a-4e4e-e8aa-001d9bf10cfa"
   },
   "outputs": [
    {
     "data": {
      "text/plain": [
       "User ID            0\n",
       "Gender             0\n",
       "Age                0\n",
       "EstimatedSalary    0\n",
       "Purchased          0\n",
       "dtype: int64"
      ]
     },
     "execution_count": 4,
     "metadata": {},
     "output_type": "execute_result"
    }
   ],
   "source": [
    "# Check for Null Values in all columns\n",
    "df.isnull().sum()"
   ]
  },
  {
   "cell_type": "code",
   "execution_count": 5,
   "metadata": {
    "colab": {
     "base_uri": "https://localhost:8080/"
    },
    "id": "uC2xCFaTBZ_5",
    "outputId": "8c7505a4-7118-486f-f0d8-a58f740877ee"
   },
   "outputs": [
    {
     "name": "stdout",
     "output_type": "stream",
     "text": [
      "<class 'pandas.core.frame.DataFrame'>\n",
      "RangeIndex: 400 entries, 0 to 399\n",
      "Data columns (total 5 columns):\n",
      " #   Column           Non-Null Count  Dtype  \n",
      "---  ------           --------------  -----  \n",
      " 0   User ID          400 non-null    int64  \n",
      " 1   Gender           400 non-null    object \n",
      " 2   Age              400 non-null    float64\n",
      " 3   EstimatedSalary  400 non-null    float64\n",
      " 4   Purchased        400 non-null    int64  \n",
      "dtypes: float64(2), int64(2), object(1)\n",
      "memory usage: 15.8+ KB\n"
     ]
    }
   ],
   "source": [
    "df.info()"
   ]
  },
  {
   "cell_type": "code",
   "execution_count": 6,
   "metadata": {
    "colab": {
     "base_uri": "https://localhost:8080/",
     "height": 206
    },
    "id": "Z6zDKL6mBcdW",
    "outputId": "5ff48f6a-17d6-4785-fcd5-7d5e7ea79643"
   },
   "outputs": [
    {
     "data": {
      "text/html": [
       "<div>\n",
       "<style scoped>\n",
       "    .dataframe tbody tr th:only-of-type {\n",
       "        vertical-align: middle;\n",
       "    }\n",
       "\n",
       "    .dataframe tbody tr th {\n",
       "        vertical-align: top;\n",
       "    }\n",
       "\n",
       "    .dataframe thead th {\n",
       "        text-align: right;\n",
       "    }\n",
       "</style>\n",
       "<table border=\"1\" class=\"dataframe\">\n",
       "  <thead>\n",
       "    <tr style=\"text-align: right;\">\n",
       "      <th></th>\n",
       "      <th>Gender</th>\n",
       "      <th>Age</th>\n",
       "      <th>EstimatedSalary</th>\n",
       "      <th>Purchased</th>\n",
       "    </tr>\n",
       "  </thead>\n",
       "  <tbody>\n",
       "    <tr>\n",
       "      <th>0</th>\n",
       "      <td>Male</td>\n",
       "      <td>19.0</td>\n",
       "      <td>19000.0</td>\n",
       "      <td>0</td>\n",
       "    </tr>\n",
       "    <tr>\n",
       "      <th>1</th>\n",
       "      <td>Male</td>\n",
       "      <td>35.0</td>\n",
       "      <td>20000.0</td>\n",
       "      <td>0</td>\n",
       "    </tr>\n",
       "    <tr>\n",
       "      <th>2</th>\n",
       "      <td>Female</td>\n",
       "      <td>26.0</td>\n",
       "      <td>43000.0</td>\n",
       "      <td>0</td>\n",
       "    </tr>\n",
       "    <tr>\n",
       "      <th>3</th>\n",
       "      <td>Female</td>\n",
       "      <td>27.0</td>\n",
       "      <td>57000.0</td>\n",
       "      <td>0</td>\n",
       "    </tr>\n",
       "    <tr>\n",
       "      <th>4</th>\n",
       "      <td>Male</td>\n",
       "      <td>19.0</td>\n",
       "      <td>76000.0</td>\n",
       "      <td>0</td>\n",
       "    </tr>\n",
       "  </tbody>\n",
       "</table>\n",
       "</div>"
      ],
      "text/plain": [
       "   Gender   Age  EstimatedSalary  Purchased\n",
       "0    Male  19.0          19000.0          0\n",
       "1    Male  35.0          20000.0          0\n",
       "2  Female  26.0          43000.0          0\n",
       "3  Female  27.0          57000.0          0\n",
       "4    Male  19.0          76000.0          0"
      ]
     },
     "execution_count": 6,
     "metadata": {},
     "output_type": "execute_result"
    }
   ],
   "source": [
    "# Drop 'Iser ID' column\n",
    "df = df.iloc[:,1:]\n",
    "df.head()"
   ]
  },
  {
   "cell_type": "code",
   "execution_count": 7,
   "metadata": {
    "id": "IDyhYwJSBlOv"
   },
   "outputs": [
    {
     "data": {
      "text/html": [
       "<div>\n",
       "<style scoped>\n",
       "    .dataframe tbody tr th:only-of-type {\n",
       "        vertical-align: middle;\n",
       "    }\n",
       "\n",
       "    .dataframe tbody tr th {\n",
       "        vertical-align: top;\n",
       "    }\n",
       "\n",
       "    .dataframe thead th {\n",
       "        text-align: right;\n",
       "    }\n",
       "</style>\n",
       "<table border=\"1\" class=\"dataframe\">\n",
       "  <thead>\n",
       "    <tr style=\"text-align: right;\">\n",
       "      <th></th>\n",
       "      <th>Gender</th>\n",
       "      <th>Age</th>\n",
       "      <th>EstimatedSalary</th>\n",
       "      <th>Purchased</th>\n",
       "    </tr>\n",
       "  </thead>\n",
       "  <tbody>\n",
       "    <tr>\n",
       "      <th>0</th>\n",
       "      <td>1</td>\n",
       "      <td>19.0</td>\n",
       "      <td>19000.0</td>\n",
       "      <td>0</td>\n",
       "    </tr>\n",
       "    <tr>\n",
       "      <th>1</th>\n",
       "      <td>1</td>\n",
       "      <td>35.0</td>\n",
       "      <td>20000.0</td>\n",
       "      <td>0</td>\n",
       "    </tr>\n",
       "    <tr>\n",
       "      <th>2</th>\n",
       "      <td>0</td>\n",
       "      <td>26.0</td>\n",
       "      <td>43000.0</td>\n",
       "      <td>0</td>\n",
       "    </tr>\n",
       "    <tr>\n",
       "      <th>3</th>\n",
       "      <td>0</td>\n",
       "      <td>27.0</td>\n",
       "      <td>57000.0</td>\n",
       "      <td>0</td>\n",
       "    </tr>\n",
       "    <tr>\n",
       "      <th>4</th>\n",
       "      <td>1</td>\n",
       "      <td>19.0</td>\n",
       "      <td>76000.0</td>\n",
       "      <td>0</td>\n",
       "    </tr>\n",
       "  </tbody>\n",
       "</table>\n",
       "</div>"
      ],
      "text/plain": [
       "   Gender   Age  EstimatedSalary  Purchased\n",
       "0       1  19.0          19000.0          0\n",
       "1       1  35.0          20000.0          0\n",
       "2       0  26.0          43000.0          0\n",
       "3       0  27.0          57000.0          0\n",
       "4       1  19.0          76000.0          0"
      ]
     },
     "execution_count": 7,
     "metadata": {},
     "output_type": "execute_result"
    }
   ],
   "source": [
    "# Label Encode 'Gender' column\n",
    "df['Gender'] = df['Gender'].astype('category')\n",
    "df['Gender'] = df['Gender'].cat.codes\n",
    "df.head()"
   ]
  },
  {
   "cell_type": "code",
   "execution_count": 8,
   "metadata": {
    "colab": {
     "base_uri": "https://localhost:8080/",
     "height": 353
    },
    "id": "-5tgs05vBvDB",
    "outputId": "0dde1f22-bcff-45dd-916d-0c2dd35c43c1"
   },
   "outputs": [
    {
     "data": {
      "text/plain": [
       "<Axes: xlabel='Age', ylabel='EstimatedSalary'>"
      ]
     },
     "execution_count": 8,
     "metadata": {},
     "output_type": "execute_result"
    },
    {
     "data": {
      "image/png": "[encoded data removed]",
      "text/plain": [
       "<Figure size 432x288 with 1 Axes>"
      ]
     },
     "metadata": {
      "needs_background": "light"
     },
     "output_type": "display_data"
    }
   ],
   "source": [
    "# Plot 'Age' vs 'EstimatedSalary'\n",
    "sns.scatterplot(data=df, x='Age', y='EstimatedSalary')"
   ]
  },
  {
   "cell_type": "code",
   "execution_count": 9,
   "metadata": {
    "id": "in9_1ubEB8Mq"
   },
   "outputs": [],
   "source": [
    "# Split Dependent and Independent variables\n",
    "x = df.iloc[:,0:3]\n",
    "y = df.iloc[:,-1]"
   ]
  },
  {
   "cell_type": "code",
   "execution_count": 10,
   "metadata": {
    "colab": {
     "base_uri": "https://localhost:8080/",
     "height": 206
    },
    "id": "f69jjg_eAbKn",
    "outputId": "b115b89e-8d19-42a1-9c17-a9fa6586de71"
   },
   "outputs": [
    {
     "data": {
      "text/html": [
       "<div>\n",
       "<style scoped>\n",
       "    .dataframe tbody tr th:only-of-type {\n",
       "        vertical-align: middle;\n",
       "    }\n",
       "\n",
       "    .dataframe tbody tr th {\n",
       "        vertical-align: top;\n",
       "    }\n",
       "\n",
       "    .dataframe thead th {\n",
       "        text-align: right;\n",
       "    }\n",
       "</style>\n",
       "<table border=\"1\" class=\"dataframe\">\n",
       "  <thead>\n",
       "    <tr style=\"text-align: right;\">\n",
       "      <th></th>\n",
       "      <th>Gender</th>\n",
       "      <th>Age</th>\n",
       "      <th>EstimatedSalary</th>\n",
       "    </tr>\n",
       "  </thead>\n",
       "  <tbody>\n",
       "    <tr>\n",
       "      <th>0</th>\n",
       "      <td>1</td>\n",
       "      <td>19.0</td>\n",
       "      <td>19000.0</td>\n",
       "    </tr>\n",
       "    <tr>\n",
       "      <th>1</th>\n",
       "      <td>1</td>\n",
       "      <td>35.0</td>\n",
       "      <td>20000.0</td>\n",
       "    </tr>\n",
       "    <tr>\n",
       "      <th>2</th>\n",
       "      <td>0</td>\n",
       "      <td>26.0</td>\n",
       "      <td>43000.0</td>\n",
       "    </tr>\n",
       "    <tr>\n",
       "      <th>3</th>\n",
       "      <td>0</td>\n",
       "      <td>27.0</td>\n",
       "      <td>57000.0</td>\n",
       "    </tr>\n",
       "    <tr>\n",
       "      <th>4</th>\n",
       "      <td>1</td>\n",
       "      <td>19.0</td>\n",
       "      <td>76000.0</td>\n",
       "    </tr>\n",
       "  </tbody>\n",
       "</table>\n",
       "</div>"
      ],
      "text/plain": [
       "   Gender   Age  EstimatedSalary\n",
       "0       1  19.0          19000.0\n",
       "1       1  35.0          20000.0\n",
       "2       0  26.0          43000.0\n",
       "3       0  27.0          57000.0\n",
       "4       1  19.0          76000.0"
      ]
     },
     "execution_count": 10,
     "metadata": {},
     "output_type": "execute_result"
    }
   ],
   "source": [
    "x.head()"
   ]
  },
  {
   "cell_type": "code",
   "execution_count": 11,
   "metadata": {
    "colab": {
     "base_uri": "https://localhost:8080/"
    },
    "id": "VzlCxE7eCaUw",
    "outputId": "c63cf31d-4116-4444-f01d-cc41bdfb01b2"
   },
   "outputs": [
    {
     "data": {
      "text/plain": [
       "0    0\n",
       "1    0\n",
       "2    0\n",
       "3    0\n",
       "4    0\n",
       "Name: Purchased, dtype: int64"
      ]
     },
     "execution_count": 11,
     "metadata": {},
     "output_type": "execute_result"
    }
   ],
   "source": [
    "y.head()"
   ]
  },
  {
   "cell_type": "markdown",
   "metadata": {},
   "source": [
    "# Train Test Split"
   ]
  },
  {
   "cell_type": "code",
   "execution_count": 12,
   "metadata": {
    "id": "mG8Hb8xCCb0U"
   },
   "outputs": [],
   "source": [
    "from sklearn.model_selection import train_test_split\n",
    "x_train, x_test, y_train, y_test = train_test_split(x, y, test_size=0.2, random_state=1)"
   ]
  },
  {
   "cell_type": "code",
   "execution_count": 13,
   "metadata": {
    "id": "PwKFvoUaAbQ9"
   },
   "outputs": [],
   "source": [
    "import tensorflow as tf\n",
    "from tensorflow import keras\n",
    "from keras import Sequential\n",
    "from keras.layers import Dense"
   ]
  },
  {
   "cell_type": "markdown",
   "metadata": {},
   "source": [
    "# Build the model without Standardization"
   ]
  },
  {
   "cell_type": "code",
   "execution_count": 14,
   "metadata": {
    "id": "Ereqpyu6CtnG"
   },
   "outputs": [],
   "source": [
    "model1 = Sequential()\n",
    "model1.add(Dense(128, activation = 'relu', input_dim=3))   # Use relu if sigmoid gives low accuracy\n",
    "model1.add(Dense(1, activation='sigmoid'))"
   ]
  },
  {
   "cell_type": "code",
   "execution_count": 15,
   "metadata": {
    "colab": {
     "base_uri": "https://localhost:8080/"
    },
    "id": "nnXyhMskCtqD",
    "outputId": "f3f8a95f-614f-457f-e262-f1beb3c71e87",
    "scrolled": true
   },
   "outputs": [
    {
     "name": "stdout",
     "output_type": "stream",
     "text": [
      "Model: \"sequential\"\n",
      "_________________________________________________________________\n",
      " Layer (type)                Output Shape              Param #   \n",
      "=================================================================\n",
      " dense (Dense)               (None, 128)               512       \n",
      "                                                                 \n",
      " dense_1 (Dense)             (None, 1)                 129       \n",
      "                                                                 \n",
      "=================================================================\n",
      "Total params: 641\n",
      "Trainable params: 641\n",
      "Non-trainable params: 0\n",
      "_________________________________________________________________\n"
     ]
    }
   ],
   "source": [
    "model1.summary()"
   ]
  },
  {
   "cell_type": "code",
   "execution_count": 16,
   "metadata": {
    "id": "Mv9U7F4WDS_e"
   },
   "outputs": [],
   "source": [
    "# loss = binary_crossentropy --> Binary Classification\n",
    "#        SparseCategoricalCrossentropy  --> Multi Class Classification\n",
    "#        MeanAbsoluteError  --> Regression\n",
    "#        MeanAbsolutePercentageError --> Regression\n",
    "#        MeanSquaredError  --> Regression\n",
    "        \n",
    "# optimizer = 'adam'\n",
    "\n",
    "\n",
    "model1.compile(loss='binary_crossentropy', optimizer='adam', metrics=['accuracy'])"
   ]
  },
  {
   "cell_type": "code",
   "execution_count": 17,
   "metadata": {
    "colab": {
     "base_uri": "https://localhost:8080/"
    },
    "id": "y97rryEtCtsn",
    "outputId": "6d083d5f-41b9-467b-a125-4afb2e128701"
   },
   "outputs": [
    {
     "name": "stdout",
     "output_type": "stream",
     "text": [
      "Epoch 1/200\n",
      "10/10 [==============================] - 1s 20ms/step - loss: 3929.7812 - accuracy: 0.6531 - val_loss: 2657.6150 - val_accuracy: 0.6000\n",
      "Epoch 2/200\n",
      "10/10 [==============================] - 0s 4ms/step - loss: 1041.7913 - accuracy: 0.5719 - val_loss: 682.5743 - val_accuracy: 0.4000\n",
      "Epoch 3/200\n",
      "10/10 [==============================] - 0s 4ms/step - loss: 410.4669 - accuracy: 0.4406 - val_loss: 370.4288 - val_accuracy: 0.6000\n",
      "Epoch 4/200\n",
      "10/10 [==============================] - 0s 4ms/step - loss: 204.9617 - accuracy: 0.5906 - val_loss: 296.1944 - val_accuracy: 0.4000\n",
      "Epoch 5/200\n",
      "10/10 [==============================] - 0s 4ms/step - loss: 197.1591 - accuracy: 0.5344 - val_loss: 255.0384 - val_accuracy: 0.6000\n",
      "Epoch 6/200\n",
      "10/10 [==============================] - 0s 4ms/step - loss: 106.1071 - accuracy: 0.5094 - val_loss: 97.0760 - val_accuracy: 0.6000\n",
      "Epoch 7/200\n",
      "10/10 [==============================] - 0s 4ms/step - loss: 74.9078 - accuracy: 0.4969 - val_loss: 43.3909 - val_accuracy: 0.6000\n",
      "Epoch 8/200\n",
      "10/10 [==============================] - 0s 4ms/step - loss: 51.4528 - accuracy: 0.4781 - val_loss: 40.5358 - val_accuracy: 0.4000\n",
      "Epoch 9/200\n",
      "10/10 [==============================] - 0s 4ms/step - loss: 44.1593 - accuracy: 0.5219 - val_loss: 98.9942 - val_accuracy: 0.6000\n",
      "Epoch 10/200\n",
      "10/10 [==============================] - 0s 4ms/step - loss: 42.4408 - accuracy: 0.4719 - val_loss: 8.8004 - val_accuracy: 0.4000\n",
      "Epoch 11/200\n",
      "10/10 [==============================] - 0s 5ms/step - loss: 45.8838 - accuracy: 0.5219 - val_loss: 74.3230 - val_accuracy: 0.6000\n",
      "Epoch 12/200\n",
      "10/10 [==============================] - 0s 4ms/step - loss: 29.9712 - accuracy: 0.6187 - val_loss: 67.5573 - val_accuracy: 0.4000\n",
      "Epoch 13/200\n",
      "10/10 [==============================] - 0s 4ms/step - loss: 71.0697 - accuracy: 0.5531 - val_loss: 83.4264 - val_accuracy: 0.4000\n",
      "Epoch 14/200\n",
      "10/10 [==============================] - 0s 4ms/step - loss: 65.7667 - accuracy: 0.4656 - val_loss: 6.8677 - val_accuracy: 0.6000\n",
      "Epoch 15/200\n",
      "10/10 [==============================] - 0s 3ms/step - loss: 14.8495 - accuracy: 0.5312 - val_loss: 35.1761 - val_accuracy: 0.6000\n",
      "Epoch 16/200\n",
      "10/10 [==============================] - 0s 4ms/step - loss: 21.3650 - accuracy: 0.5156 - val_loss: 40.0881 - val_accuracy: 0.6000\n",
      "Epoch 17/200\n",
      "10/10 [==============================] - 0s 5ms/step - loss: 30.6301 - accuracy: 0.5156 - val_loss: 1.4463 - val_accuracy: 0.6250\n",
      "Epoch 18/200\n",
      "10/10 [==============================] - 0s 4ms/step - loss: 17.2806 - accuracy: 0.5375 - val_loss: 31.0624 - val_accuracy: 0.6000\n",
      "Epoch 19/200\n",
      "10/10 [==============================] - 0s 4ms/step - loss: 21.4962 - accuracy: 0.4875 - val_loss: 4.5282 - val_accuracy: 0.6125\n",
      "Epoch 20/200\n",
      "10/10 [==============================] - 0s 4ms/step - loss: 19.5707 - accuracy: 0.5000 - val_loss: 81.0540 - val_accuracy: 0.6000\n",
      "Epoch 21/200\n",
      "10/10 [==============================] - 0s 4ms/step - loss: 65.0808 - accuracy: 0.5031 - val_loss: 62.7557 - val_accuracy: 0.6000\n",
      "Epoch 22/200\n",
      "10/10 [==============================] - 0s 4ms/step - loss: 36.0960 - accuracy: 0.4875 - val_loss: 22.5677 - val_accuracy: 0.6000\n",
      "Epoch 23/200\n",
      "10/10 [==============================] - 0s 5ms/step - loss: 22.5836 - accuracy: 0.5156 - val_loss: 35.9328 - val_accuracy: 0.4000\n",
      "Epoch 24/200\n",
      "10/10 [==============================] - 0s 4ms/step - loss: 19.4810 - accuracy: 0.5094 - val_loss: 14.6768 - val_accuracy: 0.6000\n",
      "Epoch 25/200\n",
      "10/10 [==============================] - 0s 4ms/step - loss: 15.2757 - accuracy: 0.5281 - val_loss: 20.4215 - val_accuracy: 0.4000\n",
      "Epoch 26/200\n",
      "10/10 [==============================] - 0s 4ms/step - loss: 25.2835 - accuracy: 0.5031 - val_loss: 18.1774 - val_accuracy: 0.6000\n",
      "Epoch 27/200\n",
      "10/10 [==============================] - 0s 4ms/step - loss: 48.7779 - accuracy: 0.4719 - val_loss: 42.6409 - val_accuracy: 0.4000\n",
      "Epoch 28/200\n",
      "10/10 [==============================] - 0s 4ms/step - loss: 21.0537 - accuracy: 0.5344 - val_loss: 27.1000 - val_accuracy: 0.6000\n",
      "Epoch 29/200\n",
      "10/10 [==============================] - 0s 4ms/step - loss: 19.7559 - accuracy: 0.5219 - val_loss: 11.6501 - val_accuracy: 0.4000\n",
      "Epoch 30/200\n",
      "10/10 [==============================] - 0s 4ms/step - loss: 41.2078 - accuracy: 0.5469 - val_loss: 40.9874 - val_accuracy: 0.6000\n",
      "Epoch 31/200\n",
      "10/10 [==============================] - 0s 4ms/step - loss: 62.9979 - accuracy: 0.5250 - val_loss: 44.6208 - val_accuracy: 0.6000\n",
      "Epoch 32/200\n",
      "10/10 [==============================] - 0s 4ms/step - loss: 37.7162 - accuracy: 0.5219 - val_loss: 35.1224 - val_accuracy: 0.4000\n",
      "Epoch 33/200\n",
      "10/10 [==============================] - 0s 4ms/step - loss: 26.0086 - accuracy: 0.5344 - val_loss: 14.8457 - val_accuracy: 0.6000\n",
      "Epoch 34/200\n",
      "10/10 [==============================] - 0s 5ms/step - loss: 8.5241 - accuracy: 0.5750 - val_loss: 69.2407 - val_accuracy: 0.4000\n",
      "Epoch 35/200\n",
      "10/10 [==============================] - 0s 4ms/step - loss: 43.4061 - accuracy: 0.4594 - val_loss: 99.1423 - val_accuracy: 0.6000\n",
      "Epoch 36/200\n",
      "10/10 [==============================] - 0s 4ms/step - loss: 77.9135 - accuracy: 0.5375 - val_loss: 76.7554 - val_accuracy: 0.6000\n",
      "Epoch 37/200\n",
      "10/10 [==============================] - 0s 4ms/step - loss: 109.9135 - accuracy: 0.5906 - val_loss: 161.6364 - val_accuracy: 0.4000\n",
      "Epoch 38/200\n",
      "10/10 [==============================] - 0s 4ms/step - loss: 82.6912 - accuracy: 0.5281 - val_loss: 121.1798 - val_accuracy: 0.4000\n",
      "Epoch 39/200\n",
      "10/10 [==============================] - 0s 4ms/step - loss: 62.4124 - accuracy: 0.5344 - val_loss: 23.7256 - val_accuracy: 0.4000\n",
      "Epoch 40/200\n",
      "10/10 [==============================] - 0s 4ms/step - loss: 52.0270 - accuracy: 0.5406 - val_loss: 69.8786 - val_accuracy: 0.6000\n",
      "Epoch 41/200\n",
      "10/10 [==============================] - 0s 4ms/step - loss: 68.8502 - accuracy: 0.5344 - val_loss: 141.4781 - val_accuracy: 0.6000\n",
      "Epoch 42/200\n",
      "10/10 [==============================] - 0s 4ms/step - loss: 71.8558 - accuracy: 0.5406 - val_loss: 77.1945 - val_accuracy: 0.6000\n",
      "Epoch 43/200\n",
      "10/10 [==============================] - 0s 4ms/step - loss: 37.9270 - accuracy: 0.4844 - val_loss: 26.2409 - val_accuracy: 0.6000\n",
      "Epoch 44/200\n",
      "10/10 [==============================] - 0s 4ms/step - loss: 54.3935 - accuracy: 0.5719 - val_loss: 27.4719 - val_accuracy: 0.6000\n",
      "Epoch 45/200\n",
      "10/10 [==============================] - 0s 4ms/step - loss: 59.2181 - accuracy: 0.5406 - val_loss: 27.7317 - val_accuracy: 0.4000\n",
      "Epoch 46/200\n",
      "10/10 [==============================] - 0s 4ms/step - loss: 36.7350 - accuracy: 0.4969 - val_loss: 8.4170 - val_accuracy: 0.4000\n",
      "Epoch 47/200\n",
      "10/10 [==============================] - 0s 4ms/step - loss: 23.1785 - accuracy: 0.4844 - val_loss: 6.1003 - val_accuracy: 0.6000\n",
      "Epoch 48/200\n",
      "10/10 [==============================] - 0s 4ms/step - loss: 37.5717 - accuracy: 0.5156 - val_loss: 26.0796 - val_accuracy: 0.4000\n",
      "Epoch 49/200\n",
      "10/10 [==============================] - 0s 4ms/step - loss: 28.7736 - accuracy: 0.5719 - val_loss: 24.3901 - val_accuracy: 0.4000\n",
      "Epoch 50/200\n",
      "10/10 [==============================] - 0s 4ms/step - loss: 31.3227 - accuracy: 0.4844 - val_loss: 53.9524 - val_accuracy: 0.4000\n",
      "Epoch 51/200\n",
      "10/10 [==============================] - 0s 4ms/step - loss: 55.4601 - accuracy: 0.4469 - val_loss: 81.7501 - val_accuracy: 0.6000\n",
      "Epoch 52/200\n",
      "10/10 [==============================] - 0s 4ms/step - loss: 82.0912 - accuracy: 0.5531 - val_loss: 14.4434 - val_accuracy: 0.6000\n",
      "Epoch 53/200\n",
      "10/10 [==============================] - 0s 4ms/step - loss: 30.6984 - accuracy: 0.5594 - val_loss: 4.9121 - val_accuracy: 0.4000\n",
      "Epoch 54/200\n",
      "10/10 [==============================] - 0s 4ms/step - loss: 19.0280 - accuracy: 0.4812 - val_loss: 73.3548 - val_accuracy: 0.6000\n",
      "Epoch 55/200\n",
      "10/10 [==============================] - 0s 4ms/step - loss: 49.9983 - accuracy: 0.5469 - val_loss: 55.7235 - val_accuracy: 0.4000\n",
      "Epoch 56/200\n",
      "10/10 [==============================] - 0s 4ms/step - loss: 39.8442 - accuracy: 0.4781 - val_loss: 31.7389 - val_accuracy: 0.6000\n",
      "Epoch 57/200\n",
      "10/10 [==============================] - 0s 4ms/step - loss: 58.5722 - accuracy: 0.5219 - val_loss: 148.8467 - val_accuracy: 0.6000\n"
     ]
    },
    {
     "name": "stdout",
     "output_type": "stream",
     "text": [
      "Epoch 58/200\n",
      "10/10 [==============================] - 0s 4ms/step - loss: 97.7312 - accuracy: 0.5281 - val_loss: 26.7143 - val_accuracy: 0.6000\n",
      "Epoch 59/200\n",
      "10/10 [==============================] - 0s 4ms/step - loss: 40.8336 - accuracy: 0.5719 - val_loss: 14.6571 - val_accuracy: 0.6000\n",
      "Epoch 60/200\n",
      "10/10 [==============================] - 0s 4ms/step - loss: 23.0401 - accuracy: 0.5344 - val_loss: 79.7948 - val_accuracy: 0.6000\n",
      "Epoch 61/200\n",
      "10/10 [==============================] - 0s 4ms/step - loss: 51.0006 - accuracy: 0.5344 - val_loss: 23.2463 - val_accuracy: 0.4000\n",
      "Epoch 62/200\n",
      "10/10 [==============================] - 0s 4ms/step - loss: 25.9252 - accuracy: 0.4969 - val_loss: 54.7594 - val_accuracy: 0.4000\n",
      "Epoch 63/200\n",
      "10/10 [==============================] - 0s 4ms/step - loss: 62.8401 - accuracy: 0.5031 - val_loss: 118.3790 - val_accuracy: 0.4000\n",
      "Epoch 64/200\n",
      "10/10 [==============================] - 0s 4ms/step - loss: 48.5299 - accuracy: 0.5031 - val_loss: 74.0983 - val_accuracy: 0.6000\n",
      "Epoch 65/200\n",
      "10/10 [==============================] - 0s 4ms/step - loss: 50.6516 - accuracy: 0.5281 - val_loss: 19.5094 - val_accuracy: 0.4000\n",
      "Epoch 66/200\n",
      "10/10 [==============================] - 0s 4ms/step - loss: 16.6103 - accuracy: 0.4031 - val_loss: 41.9738 - val_accuracy: 0.6000\n",
      "Epoch 67/200\n",
      "10/10 [==============================] - 0s 5ms/step - loss: 26.6461 - accuracy: 0.5719 - val_loss: 0.6555 - val_accuracy: 0.6750\n",
      "Epoch 68/200\n",
      "10/10 [==============================] - 0s 4ms/step - loss: 38.2663 - accuracy: 0.5750 - val_loss: 5.2500 - val_accuracy: 0.6000\n",
      "Epoch 69/200\n",
      "10/10 [==============================] - 0s 4ms/step - loss: 69.7572 - accuracy: 0.5469 - val_loss: 49.7058 - val_accuracy: 0.4000\n",
      "Epoch 70/200\n",
      "10/10 [==============================] - 0s 4ms/step - loss: 37.3535 - accuracy: 0.4781 - val_loss: 72.5507 - val_accuracy: 0.6000\n",
      "Epoch 71/200\n",
      "10/10 [==============================] - 0s 4ms/step - loss: 36.6878 - accuracy: 0.5156 - val_loss: 29.3235 - val_accuracy: 0.4000\n",
      "Epoch 72/200\n",
      "10/10 [==============================] - 0s 4ms/step - loss: 35.5465 - accuracy: 0.5469 - val_loss: 23.8778 - val_accuracy: 0.6000\n",
      "Epoch 73/200\n",
      "10/10 [==============================] - 0s 4ms/step - loss: 44.0429 - accuracy: 0.4656 - val_loss: 4.6947 - val_accuracy: 0.4000\n",
      "Epoch 74/200\n",
      "10/10 [==============================] - 0s 4ms/step - loss: 44.4891 - accuracy: 0.5219 - val_loss: 14.0148 - val_accuracy: 0.6000\n",
      "Epoch 75/200\n",
      "10/10 [==============================] - 0s 4ms/step - loss: 37.2123 - accuracy: 0.4969 - val_loss: 17.0651 - val_accuracy: 0.6000\n",
      "Epoch 76/200\n",
      "10/10 [==============================] - 0s 4ms/step - loss: 31.3867 - accuracy: 0.4406 - val_loss: 63.2873 - val_accuracy: 0.6000\n",
      "Epoch 77/200\n",
      "10/10 [==============================] - 0s 3ms/step - loss: 100.2990 - accuracy: 0.4719 - val_loss: 68.5244 - val_accuracy: 0.6000\n",
      "Epoch 78/200\n",
      "10/10 [==============================] - 0s 4ms/step - loss: 72.9967 - accuracy: 0.5719 - val_loss: 31.4470 - val_accuracy: 0.6000\n",
      "Epoch 79/200\n",
      "10/10 [==============================] - 0s 4ms/step - loss: 17.8492 - accuracy: 0.5344 - val_loss: 26.3236 - val_accuracy: 0.4000\n",
      "Epoch 80/200\n",
      "10/10 [==============================] - 0s 4ms/step - loss: 17.9878 - accuracy: 0.5500 - val_loss: 15.3841 - val_accuracy: 0.6000\n",
      "Epoch 81/200\n",
      "10/10 [==============================] - 0s 4ms/step - loss: 20.9959 - accuracy: 0.5156 - val_loss: 52.1221 - val_accuracy: 0.6000\n",
      "Epoch 82/200\n",
      "10/10 [==============================] - 0s 4ms/step - loss: 26.3925 - accuracy: 0.5281 - val_loss: 39.8262 - val_accuracy: 0.6000\n",
      "Epoch 83/200\n",
      "10/10 [==============================] - 0s 4ms/step - loss: 20.3681 - accuracy: 0.5094 - val_loss: 22.2483 - val_accuracy: 0.6000\n",
      "Epoch 84/200\n",
      "10/10 [==============================] - 0s 4ms/step - loss: 11.9406 - accuracy: 0.5063 - val_loss: 30.9050 - val_accuracy: 0.4000\n",
      "Epoch 85/200\n",
      "10/10 [==============================] - 0s 5ms/step - loss: 19.8296 - accuracy: 0.5656 - val_loss: 32.9062 - val_accuracy: 0.4000\n",
      "Epoch 86/200\n",
      "10/10 [==============================] - 0s 4ms/step - loss: 23.4246 - accuracy: 0.5281 - val_loss: 79.6783 - val_accuracy: 0.4000\n",
      "Epoch 87/200\n",
      "10/10 [==============================] - 0s 4ms/step - loss: 81.7867 - accuracy: 0.5219 - val_loss: 107.8003 - val_accuracy: 0.4000\n",
      "Epoch 88/200\n",
      "10/10 [==============================] - 0s 4ms/step - loss: 124.0863 - accuracy: 0.4594 - val_loss: 10.9446 - val_accuracy: 0.4000\n",
      "Epoch 89/200\n",
      "10/10 [==============================] - 0s 4ms/step - loss: 32.3501 - accuracy: 0.4594 - val_loss: 90.3326 - val_accuracy: 0.6000\n",
      "Epoch 90/200\n",
      "10/10 [==============================] - 0s 4ms/step - loss: 35.6261 - accuracy: 0.5531 - val_loss: 23.1182 - val_accuracy: 0.4000\n",
      "Epoch 91/200\n",
      "10/10 [==============================] - 0s 5ms/step - loss: 40.3670 - accuracy: 0.5344 - val_loss: 60.4185 - val_accuracy: 0.6000\n",
      "Epoch 92/200\n",
      "10/10 [==============================] - 0s 4ms/step - loss: 84.1269 - accuracy: 0.5188 - val_loss: 115.4103 - val_accuracy: 0.6000\n",
      "Epoch 93/200\n",
      "10/10 [==============================] - 0s 4ms/step - loss: 117.4438 - accuracy: 0.4531 - val_loss: 141.4025 - val_accuracy: 0.6000\n",
      "Epoch 94/200\n",
      "10/10 [==============================] - 0s 4ms/step - loss: 65.6118 - accuracy: 0.5156 - val_loss: 25.3692 - val_accuracy: 0.4000\n",
      "Epoch 95/200\n",
      "10/10 [==============================] - 0s 4ms/step - loss: 23.2475 - accuracy: 0.4781 - val_loss: 15.8036 - val_accuracy: 0.4000\n",
      "Epoch 96/200\n",
      "10/10 [==============================] - 0s 4ms/step - loss: 12.7203 - accuracy: 0.5312 - val_loss: 8.7368 - val_accuracy: 0.6000\n",
      "Epoch 97/200\n",
      "10/10 [==============================] - 0s 4ms/step - loss: 16.1481 - accuracy: 0.5344 - val_loss: 35.3642 - val_accuracy: 0.4000\n",
      "Epoch 98/200\n",
      "10/10 [==============================] - 0s 4ms/step - loss: 37.8520 - accuracy: 0.5031 - val_loss: 30.8998 - val_accuracy: 0.4000\n",
      "Epoch 99/200\n",
      "10/10 [==============================] - 0s 4ms/step - loss: 45.6193 - accuracy: 0.4469 - val_loss: 122.7870 - val_accuracy: 0.6000\n",
      "Epoch 100/200\n",
      "10/10 [==============================] - 0s 4ms/step - loss: 72.9589 - accuracy: 0.5406 - val_loss: 92.5484 - val_accuracy: 0.6000\n",
      "Epoch 101/200\n",
      "10/10 [==============================] - 0s 4ms/step - loss: 25.4275 - accuracy: 0.5562 - val_loss: 42.9459 - val_accuracy: 0.6000\n",
      "Epoch 102/200\n",
      "10/10 [==============================] - 0s 4ms/step - loss: 43.3164 - accuracy: 0.5531 - val_loss: 31.5351 - val_accuracy: 0.4000\n",
      "Epoch 103/200\n",
      "10/10 [==============================] - 0s 4ms/step - loss: 42.1668 - accuracy: 0.4344 - val_loss: 97.2259 - val_accuracy: 0.6000\n",
      "Epoch 104/200\n",
      "10/10 [==============================] - 0s 4ms/step - loss: 38.4580 - accuracy: 0.5375 - val_loss: 1.3974 - val_accuracy: 0.6000\n",
      "Epoch 105/200\n",
      "10/10 [==============================] - 0s 4ms/step - loss: 19.2993 - accuracy: 0.4844 - val_loss: 9.5325 - val_accuracy: 0.6000\n",
      "Epoch 106/200\n",
      "10/10 [==============================] - 0s 4ms/step - loss: 36.1094 - accuracy: 0.5281 - val_loss: 1.9826 - val_accuracy: 0.4250\n",
      "Epoch 107/200\n",
      "10/10 [==============================] - 0s 4ms/step - loss: 47.4539 - accuracy: 0.5094 - val_loss: 16.4721 - val_accuracy: 0.6000\n",
      "Epoch 108/200\n",
      "10/10 [==============================] - 0s 3ms/step - loss: 28.0370 - accuracy: 0.4906 - val_loss: 82.0939 - val_accuracy: 0.6000\n",
      "Epoch 109/200\n",
      "10/10 [==============================] - 0s 4ms/step - loss: 53.7448 - accuracy: 0.5406 - val_loss: 34.7137 - val_accuracy: 0.4000\n",
      "Epoch 110/200\n",
      "10/10 [==============================] - 0s 4ms/step - loss: 48.0468 - accuracy: 0.4656 - val_loss: 13.9612 - val_accuracy: 0.4000\n",
      "Epoch 111/200\n",
      "10/10 [==============================] - 0s 4ms/step - loss: 69.9772 - accuracy: 0.5594 - val_loss: 31.3068 - val_accuracy: 0.4000\n",
      "Epoch 112/200\n",
      "10/10 [==============================] - 0s 4ms/step - loss: 65.6777 - accuracy: 0.5594 - val_loss: 36.4341 - val_accuracy: 0.4000\n",
      "Epoch 113/200\n",
      "10/10 [==============================] - 0s 4ms/step - loss: 38.1726 - accuracy: 0.5719 - val_loss: 36.5144 - val_accuracy: 0.6000\n",
      "Epoch 114/200\n",
      "10/10 [==============================] - 0s 4ms/step - loss: 27.3819 - accuracy: 0.4844 - val_loss: 54.5620 - val_accuracy: 0.6000\n"
     ]
    },
    {
     "name": "stdout",
     "output_type": "stream",
     "text": [
      "Epoch 115/200\n",
      "10/10 [==============================] - 0s 4ms/step - loss: 49.0139 - accuracy: 0.5594 - val_loss: 14.4660 - val_accuracy: 0.6000\n",
      "Epoch 116/200\n",
      "10/10 [==============================] - 0s 4ms/step - loss: 25.6903 - accuracy: 0.5094 - val_loss: 58.3484 - val_accuracy: 0.4000\n",
      "Epoch 117/200\n",
      "10/10 [==============================] - 0s 4ms/step - loss: 48.6386 - accuracy: 0.4719 - val_loss: 46.4562 - val_accuracy: 0.6000\n",
      "Epoch 118/200\n",
      "10/10 [==============================] - 0s 4ms/step - loss: 46.3997 - accuracy: 0.5250 - val_loss: 57.6717 - val_accuracy: 0.4000\n",
      "Epoch 119/200\n",
      "10/10 [==============================] - 0s 4ms/step - loss: 32.0726 - accuracy: 0.5031 - val_loss: 64.0182 - val_accuracy: 0.4000\n",
      "Epoch 120/200\n",
      "10/10 [==============================] - 0s 4ms/step - loss: 50.9603 - accuracy: 0.4656 - val_loss: 12.2157 - val_accuracy: 0.4000\n",
      "Epoch 121/200\n",
      "10/10 [==============================] - 0s 4ms/step - loss: 14.6531 - accuracy: 0.5406 - val_loss: 31.2604 - val_accuracy: 0.4000\n",
      "Epoch 122/200\n",
      "10/10 [==============================] - 0s 4ms/step - loss: 15.0637 - accuracy: 0.5562 - val_loss: 1.9773 - val_accuracy: 0.6000\n",
      "Epoch 123/200\n",
      "10/10 [==============================] - 0s 4ms/step - loss: 23.4949 - accuracy: 0.5281 - val_loss: 14.8500 - val_accuracy: 0.6000\n",
      "Epoch 124/200\n",
      "10/10 [==============================] - 0s 4ms/step - loss: 16.4036 - accuracy: 0.5844 - val_loss: 24.3359 - val_accuracy: 0.4000\n",
      "Epoch 125/200\n",
      "10/10 [==============================] - 0s 4ms/step - loss: 24.1652 - accuracy: 0.4906 - val_loss: 27.0573 - val_accuracy: 0.4000\n",
      "Epoch 126/200\n",
      "10/10 [==============================] - 0s 4ms/step - loss: 36.4651 - accuracy: 0.4969 - val_loss: 34.0535 - val_accuracy: 0.6000\n",
      "Epoch 127/200\n",
      "10/10 [==============================] - 0s 4ms/step - loss: 36.8221 - accuracy: 0.5469 - val_loss: 73.4294 - val_accuracy: 0.4000\n",
      "Epoch 128/200\n",
      "10/10 [==============================] - 0s 4ms/step - loss: 23.2179 - accuracy: 0.5406 - val_loss: 53.8879 - val_accuracy: 0.6000\n",
      "Epoch 129/200\n",
      "10/10 [==============================] - 0s 4ms/step - loss: 28.3875 - accuracy: 0.5094 - val_loss: 44.0507 - val_accuracy: 0.6000\n",
      "Epoch 130/200\n",
      "10/10 [==============================] - 0s 4ms/step - loss: 37.1173 - accuracy: 0.5281 - val_loss: 34.5000 - val_accuracy: 0.4000\n",
      "Epoch 131/200\n",
      "10/10 [==============================] - 0s 4ms/step - loss: 50.1267 - accuracy: 0.5094 - val_loss: 38.9429 - val_accuracy: 0.6000\n",
      "Epoch 132/200\n",
      "10/10 [==============================] - 0s 4ms/step - loss: 20.0298 - accuracy: 0.5312 - val_loss: 51.3915 - val_accuracy: 0.4000\n",
      "Epoch 133/200\n",
      "10/10 [==============================] - 0s 4ms/step - loss: 43.5727 - accuracy: 0.4719 - val_loss: 23.3033 - val_accuracy: 0.6000\n",
      "Epoch 134/200\n",
      "10/10 [==============================] - 0s 4ms/step - loss: 41.2705 - accuracy: 0.5344 - val_loss: 12.2759 - val_accuracy: 0.4000\n",
      "Epoch 135/200\n",
      "10/10 [==============================] - 0s 4ms/step - loss: 21.7342 - accuracy: 0.5406 - val_loss: 56.0821 - val_accuracy: 0.4000\n",
      "Epoch 136/200\n",
      "10/10 [==============================] - 0s 4ms/step - loss: 35.3655 - accuracy: 0.4812 - val_loss: 52.9583 - val_accuracy: 0.6000\n",
      "Epoch 137/200\n",
      "10/10 [==============================] - 0s 4ms/step - loss: 43.9926 - accuracy: 0.5844 - val_loss: 28.0610 - val_accuracy: 0.6000\n",
      "Epoch 138/200\n",
      "10/10 [==============================] - 0s 4ms/step - loss: 37.2532 - accuracy: 0.4781 - val_loss: 87.3996 - val_accuracy: 0.6000\n",
      "Epoch 139/200\n",
      "10/10 [==============================] - 0s 4ms/step - loss: 74.9152 - accuracy: 0.5312 - val_loss: 69.2078 - val_accuracy: 0.6000\n",
      "Epoch 140/200\n",
      "10/10 [==============================] - 0s 4ms/step - loss: 76.8045 - accuracy: 0.5656 - val_loss: 117.1796 - val_accuracy: 0.6000\n",
      "Epoch 141/200\n",
      "10/10 [==============================] - 0s 4ms/step - loss: 78.8217 - accuracy: 0.5156 - val_loss: 155.6059 - val_accuracy: 0.6000\n",
      "Epoch 142/200\n",
      "10/10 [==============================] - 0s 4ms/step - loss: 115.0364 - accuracy: 0.4844 - val_loss: 40.3857 - val_accuracy: 0.6000\n",
      "Epoch 143/200\n",
      "10/10 [==============================] - 0s 4ms/step - loss: 50.9351 - accuracy: 0.5844 - val_loss: 19.3986 - val_accuracy: 0.6000\n",
      "Epoch 144/200\n",
      "10/10 [==============================] - 0s 5ms/step - loss: 32.3715 - accuracy: 0.4844 - val_loss: 73.7162 - val_accuracy: 0.6000\n",
      "Epoch 145/200\n",
      "10/10 [==============================] - 0s 4ms/step - loss: 30.8248 - accuracy: 0.4781 - val_loss: 35.9081 - val_accuracy: 0.4000\n",
      "Epoch 146/200\n",
      "10/10 [==============================] - 0s 4ms/step - loss: 19.7382 - accuracy: 0.5437 - val_loss: 25.3604 - val_accuracy: 0.6000\n",
      "Epoch 147/200\n",
      "10/10 [==============================] - 0s 4ms/step - loss: 29.0622 - accuracy: 0.5469 - val_loss: 28.0517 - val_accuracy: 0.6000\n",
      "Epoch 148/200\n",
      "10/10 [==============================] - 0s 4ms/step - loss: 18.6867 - accuracy: 0.5250 - val_loss: 14.2979 - val_accuracy: 0.4000\n",
      "Epoch 149/200\n",
      "10/10 [==============================] - 0s 4ms/step - loss: 43.7509 - accuracy: 0.5031 - val_loss: 132.3794 - val_accuracy: 0.6000\n",
      "Epoch 150/200\n",
      "10/10 [==============================] - 0s 4ms/step - loss: 75.3171 - accuracy: 0.5219 - val_loss: 126.7999 - val_accuracy: 0.6000\n",
      "Epoch 151/200\n",
      "10/10 [==============================] - 0s 4ms/step - loss: 40.9106 - accuracy: 0.5469 - val_loss: 57.7414 - val_accuracy: 0.4000\n",
      "Epoch 152/200\n",
      "10/10 [==============================] - 0s 4ms/step - loss: 41.9488 - accuracy: 0.4906 - val_loss: 22.4417 - val_accuracy: 0.6000\n",
      "Epoch 153/200\n",
      "10/10 [==============================] - 0s 4ms/step - loss: 18.2604 - accuracy: 0.5750 - val_loss: 25.8185 - val_accuracy: 0.4000\n",
      "Epoch 154/200\n",
      "10/10 [==============================] - 0s 4ms/step - loss: 47.1237 - accuracy: 0.5125 - val_loss: 43.1205 - val_accuracy: 0.4000\n",
      "Epoch 155/200\n",
      "10/10 [==============================] - 0s 4ms/step - loss: 44.8553 - accuracy: 0.5344 - val_loss: 88.0944 - val_accuracy: 0.6000\n",
      "Epoch 156/200\n",
      "10/10 [==============================] - 0s 4ms/step - loss: 81.1072 - accuracy: 0.4906 - val_loss: 75.3823 - val_accuracy: 0.6000\n",
      "Epoch 157/200\n",
      "10/10 [==============================] - 0s 4ms/step - loss: 74.9544 - accuracy: 0.5031 - val_loss: 5.8844 - val_accuracy: 0.6000\n",
      "Epoch 158/200\n",
      "10/10 [==============================] - 0s 4ms/step - loss: 58.5430 - accuracy: 0.5594 - val_loss: 84.1585 - val_accuracy: 0.4000\n",
      "Epoch 159/200\n",
      "10/10 [==============================] - 0s 4ms/step - loss: 101.2231 - accuracy: 0.5094 - val_loss: 82.1596 - val_accuracy: 0.6000\n",
      "Epoch 160/200\n",
      "10/10 [==============================] - 0s 4ms/step - loss: 58.7605 - accuracy: 0.5656 - val_loss: 26.8193 - val_accuracy: 0.4000\n",
      "Epoch 161/200\n",
      "10/10 [==============================] - 0s 4ms/step - loss: 20.0261 - accuracy: 0.4844 - val_loss: 23.2566 - val_accuracy: 0.6000\n",
      "Epoch 162/200\n",
      "10/10 [==============================] - 0s 4ms/step - loss: 46.0244 - accuracy: 0.4750 - val_loss: 4.5360 - val_accuracy: 0.4125\n",
      "Epoch 163/200\n",
      "10/10 [==============================] - 0s 4ms/step - loss: 51.5599 - accuracy: 0.4875 - val_loss: 137.2496 - val_accuracy: 0.6000\n",
      "Epoch 164/200\n",
      "10/10 [==============================] - 0s 4ms/step - loss: 105.2217 - accuracy: 0.4781 - val_loss: 88.5087 - val_accuracy: 0.6000\n",
      "Epoch 165/200\n",
      "10/10 [==============================] - 0s 4ms/step - loss: 125.2194 - accuracy: 0.5531 - val_loss: 171.1589 - val_accuracy: 0.4000\n",
      "Epoch 166/200\n",
      "10/10 [==============================] - 0s 4ms/step - loss: 49.3713 - accuracy: 0.5562 - val_loss: 40.8670 - val_accuracy: 0.6000\n",
      "Epoch 167/200\n",
      "10/10 [==============================] - 0s 4ms/step - loss: 21.1280 - accuracy: 0.5469 - val_loss: 29.0083 - val_accuracy: 0.6000\n",
      "Epoch 168/200\n",
      "10/10 [==============================] - 0s 4ms/step - loss: 33.2170 - accuracy: 0.5188 - val_loss: 53.0858 - val_accuracy: 0.6000\n",
      "Epoch 169/200\n",
      "10/10 [==============================] - 0s 4ms/step - loss: 26.2533 - accuracy: 0.5000 - val_loss: 59.4238 - val_accuracy: 0.6000\n",
      "Epoch 170/200\n",
      "10/10 [==============================] - 0s 4ms/step - loss: 45.7022 - accuracy: 0.5656 - val_loss: 21.1379 - val_accuracy: 0.4000\n",
      "Epoch 171/200\n"
     ]
    },
    {
     "name": "stdout",
     "output_type": "stream",
     "text": [
      "10/10 [==============================] - 0s 4ms/step - loss: 47.8280 - accuracy: 0.4469 - val_loss: 17.7287 - val_accuracy: 0.4000\n",
      "Epoch 172/200\n",
      "10/10 [==============================] - 0s 4ms/step - loss: 61.2888 - accuracy: 0.5719 - val_loss: 45.8206 - val_accuracy: 0.4000\n",
      "Epoch 173/200\n",
      "10/10 [==============================] - 0s 4ms/step - loss: 44.8240 - accuracy: 0.5312 - val_loss: 70.8705 - val_accuracy: 0.6000\n",
      "Epoch 174/200\n",
      "10/10 [==============================] - 0s 3ms/step - loss: 45.3205 - accuracy: 0.4594 - val_loss: 11.5304 - val_accuracy: 0.6000\n",
      "Epoch 175/200\n",
      "10/10 [==============================] - 0s 4ms/step - loss: 38.6063 - accuracy: 0.5094 - val_loss: 96.7131 - val_accuracy: 0.4000\n",
      "Epoch 176/200\n",
      "10/10 [==============================] - 0s 3ms/step - loss: 45.8983 - accuracy: 0.5594 - val_loss: 29.6305 - val_accuracy: 0.6000\n",
      "Epoch 177/200\n",
      "10/10 [==============================] - 0s 4ms/step - loss: 43.3027 - accuracy: 0.5531 - val_loss: 40.8022 - val_accuracy: 0.4000\n",
      "Epoch 178/200\n",
      "10/10 [==============================] - 0s 4ms/step - loss: 36.6781 - accuracy: 0.4281 - val_loss: 11.2947 - val_accuracy: 0.6000\n",
      "Epoch 179/200\n",
      "10/10 [==============================] - 0s 3ms/step - loss: 29.8293 - accuracy: 0.5719 - val_loss: 79.7682 - val_accuracy: 0.4000\n",
      "Epoch 180/200\n",
      "10/10 [==============================] - 0s 4ms/step - loss: 74.5010 - accuracy: 0.5719 - val_loss: 106.6654 - val_accuracy: 0.4000\n",
      "Epoch 181/200\n",
      "10/10 [==============================] - 0s 3ms/step - loss: 51.3908 - accuracy: 0.4844 - val_loss: 105.8725 - val_accuracy: 0.6000\n",
      "Epoch 182/200\n",
      "10/10 [==============================] - 0s 3ms/step - loss: 52.9874 - accuracy: 0.5281 - val_loss: 62.1511 - val_accuracy: 0.4000\n",
      "Epoch 183/200\n",
      "10/10 [==============================] - 0s 3ms/step - loss: 58.2664 - accuracy: 0.5344 - val_loss: 69.3425 - val_accuracy: 0.4000\n",
      "Epoch 184/200\n",
      "10/10 [==============================] - 0s 3ms/step - loss: 26.7170 - accuracy: 0.4969 - val_loss: 18.7960 - val_accuracy: 0.4000\n",
      "Epoch 185/200\n",
      "10/10 [==============================] - 0s 4ms/step - loss: 30.8737 - accuracy: 0.5906 - val_loss: 75.2959 - val_accuracy: 0.6000\n",
      "Epoch 186/200\n",
      "10/10 [==============================] - 0s 4ms/step - loss: 46.9503 - accuracy: 0.5188 - val_loss: 57.3876 - val_accuracy: 0.4000\n",
      "Epoch 187/200\n",
      "10/10 [==============================] - 0s 4ms/step - loss: 17.5258 - accuracy: 0.5156 - val_loss: 6.4514 - val_accuracy: 0.4125\n",
      "Epoch 188/200\n",
      "10/10 [==============================] - 0s 4ms/step - loss: 33.1921 - accuracy: 0.5000 - val_loss: 17.0014 - val_accuracy: 0.4000\n",
      "Epoch 189/200\n",
      "10/10 [==============================] - 0s 3ms/step - loss: 19.8759 - accuracy: 0.5188 - val_loss: 55.0322 - val_accuracy: 0.4000\n",
      "Epoch 190/200\n",
      "10/10 [==============================] - 0s 4ms/step - loss: 39.5161 - accuracy: 0.5281 - val_loss: 71.1167 - val_accuracy: 0.6000\n",
      "Epoch 191/200\n",
      "10/10 [==============================] - 0s 4ms/step - loss: 25.0429 - accuracy: 0.5469 - val_loss: 50.8368 - val_accuracy: 0.4000\n",
      "Epoch 192/200\n",
      "10/10 [==============================] - 0s 3ms/step - loss: 46.8787 - accuracy: 0.4812 - val_loss: 59.5284 - val_accuracy: 0.6000\n",
      "Epoch 193/200\n",
      "10/10 [==============================] - 0s 3ms/step - loss: 52.4392 - accuracy: 0.5406 - val_loss: 8.9583 - val_accuracy: 0.4375\n",
      "Epoch 194/200\n",
      "10/10 [==============================] - 0s 3ms/step - loss: 34.3025 - accuracy: 0.4969 - val_loss: 80.9010 - val_accuracy: 0.6000\n",
      "Epoch 195/200\n",
      "10/10 [==============================] - 0s 3ms/step - loss: 75.0142 - accuracy: 0.5094 - val_loss: 68.2237 - val_accuracy: 0.6000\n",
      "Epoch 196/200\n",
      "10/10 [==============================] - 0s 3ms/step - loss: 45.6647 - accuracy: 0.5844 - val_loss: 7.1730 - val_accuracy: 0.4500\n",
      "Epoch 197/200\n",
      "10/10 [==============================] - 0s 4ms/step - loss: 25.3893 - accuracy: 0.4781 - val_loss: 4.8250 - val_accuracy: 0.6000\n",
      "Epoch 198/200\n",
      "10/10 [==============================] - 0s 3ms/step - loss: 42.3746 - accuracy: 0.5437 - val_loss: 116.0283 - val_accuracy: 0.4000\n",
      "Epoch 199/200\n",
      "10/10 [==============================] - 0s 3ms/step - loss: 35.3218 - accuracy: 0.4594 - val_loss: 2.0218 - val_accuracy: 0.6000\n",
      "Epoch 200/200\n",
      "10/10 [==============================] - 0s 4ms/step - loss: 22.0418 - accuracy: 0.5469 - val_loss: 39.7371 - val_accuracy: 0.4000\n"
     ]
    }
   ],
   "source": [
    "history1 = model1.fit(x_train, y_train, validation_data = (x_test, y_test), epochs=200)"
   ]
  },
  {
   "cell_type": "code",
   "execution_count": 18,
   "metadata": {
    "colab": {
     "base_uri": "https://localhost:8080/",
     "height": 283
    },
    "id": "CKRuSq4BCtvZ",
    "outputId": "8ae9c8c4-a093-4213-bfd6-4106b2bc58e2"
   },
   "outputs": [
    {
     "data": {
      "text/plain": [
       "[<matplotlib.lines.Line2D at 0x2a21ceb3fd0>]"
      ]
     },
     "execution_count": 18,
     "metadata": {},
     "output_type": "execute_result"
    },
    {
     "data": {
      "image/png": "[encoded data removed]",
      "text/plain": [
       "<Figure size 432x288 with 1 Axes>"
      ]
     },
     "metadata": {
      "needs_background": "light"
     },
     "output_type": "display_data"
    }
   ],
   "source": [
    "# Visualize the performance\n",
    "plt.plot(history1.history['val_accuracy'])"
   ]
  },
  {
   "cell_type": "markdown",
   "metadata": {},
   "source": [
    "# Build the model again but With Standardization"
   ]
  },
  {
   "cell_type": "code",
   "execution_count": 19,
   "metadata": {
    "id": "pA2Vq7viCtyX"
   },
   "outputs": [],
   "source": [
    "# Feature Scaling\n",
    "from sklearn.preprocessing import StandardScaler\n",
    "scaler = StandardScaler()\n",
    "x_train_scaled = scaler.fit_transform(x_train)\n",
    "x_test_scaled = scaler.fit_transform(x_test)"
   ]
  },
  {
   "cell_type": "code",
   "execution_count": 20,
   "metadata": {
    "colab": {
     "base_uri": "https://localhost:8080/"
    },
    "id": "L4YS_FakCt1R",
    "outputId": "96774fdf-7ff6-4270-b4d6-1bd975127116"
   },
   "outputs": [
    {
     "name": "stdout",
     "output_type": "stream",
     "text": [
      "Epoch 1/200\n",
      "10/10 [==============================] - 0s 15ms/step - loss: 0.6625 - accuracy: 0.6250 - val_loss: 0.6413 - val_accuracy: 0.6875\n",
      "Epoch 2/200\n",
      "10/10 [==============================] - 0s 3ms/step - loss: 0.6019 - accuracy: 0.7344 - val_loss: 0.5929 - val_accuracy: 0.7000\n",
      "Epoch 3/200\n",
      "10/10 [==============================] - 0s 4ms/step - loss: 0.5546 - accuracy: 0.7781 - val_loss: 0.5516 - val_accuracy: 0.7250\n",
      "Epoch 4/200\n",
      "10/10 [==============================] - 0s 3ms/step - loss: 0.5120 - accuracy: 0.7937 - val_loss: 0.5174 - val_accuracy: 0.7500\n",
      "Epoch 5/200\n",
      "10/10 [==============================] - 0s 4ms/step - loss: 0.4774 - accuracy: 0.8156 - val_loss: 0.4884 - val_accuracy: 0.7625\n",
      "Epoch 6/200\n",
      "10/10 [==============================] - 0s 4ms/step - loss: 0.4474 - accuracy: 0.8344 - val_loss: 0.4628 - val_accuracy: 0.8125\n",
      "Epoch 7/200\n",
      "10/10 [==============================] - 0s 4ms/step - loss: 0.4206 - accuracy: 0.8344 - val_loss: 0.4426 - val_accuracy: 0.8000\n",
      "Epoch 8/200\n",
      "10/10 [==============================] - 0s 4ms/step - loss: 0.3990 - accuracy: 0.8500 - val_loss: 0.4229 - val_accuracy: 0.8125\n",
      "Epoch 9/200\n",
      "10/10 [==============================] - 0s 3ms/step - loss: 0.3786 - accuracy: 0.8656 - val_loss: 0.4084 - val_accuracy: 0.8125\n",
      "Epoch 10/200\n",
      "10/10 [==============================] - 0s 3ms/step - loss: 0.3618 - accuracy: 0.8750 - val_loss: 0.3953 - val_accuracy: 0.8125\n",
      "Epoch 11/200\n",
      "10/10 [==============================] - 0s 4ms/step - loss: 0.3470 - accuracy: 0.8781 - val_loss: 0.3859 - val_accuracy: 0.8125\n",
      "Epoch 12/200\n",
      "10/10 [==============================] - 0s 3ms/step - loss: 0.3352 - accuracy: 0.8844 - val_loss: 0.3748 - val_accuracy: 0.8125\n",
      "Epoch 13/200\n",
      "10/10 [==============================] - 0s 4ms/step - loss: 0.3232 - accuracy: 0.8875 - val_loss: 0.3676 - val_accuracy: 0.8125\n",
      "Epoch 14/200\n",
      "10/10 [==============================] - 0s 4ms/step - loss: 0.3139 - accuracy: 0.8969 - val_loss: 0.3615 - val_accuracy: 0.8250\n",
      "Epoch 15/200\n",
      "10/10 [==============================] - 0s 3ms/step - loss: 0.3051 - accuracy: 0.8969 - val_loss: 0.3571 - val_accuracy: 0.8250\n",
      "Epoch 16/200\n",
      "10/10 [==============================] - 0s 3ms/step - loss: 0.2977 - accuracy: 0.8969 - val_loss: 0.3528 - val_accuracy: 0.8250\n",
      "Epoch 17/200\n",
      "10/10 [==============================] - 0s 3ms/step - loss: 0.2907 - accuracy: 0.8969 - val_loss: 0.3502 - val_accuracy: 0.8250\n",
      "Epoch 18/200\n",
      "10/10 [==============================] - 0s 4ms/step - loss: 0.2855 - accuracy: 0.9031 - val_loss: 0.3455 - val_accuracy: 0.8250\n",
      "Epoch 19/200\n",
      "10/10 [==============================] - 0s 3ms/step - loss: 0.2794 - accuracy: 0.9031 - val_loss: 0.3438 - val_accuracy: 0.8250\n",
      "Epoch 20/200\n",
      "10/10 [==============================] - 0s 4ms/step - loss: 0.2748 - accuracy: 0.9031 - val_loss: 0.3430 - val_accuracy: 0.8250\n",
      "Epoch 21/200\n",
      "10/10 [==============================] - 0s 4ms/step - loss: 0.2706 - accuracy: 0.9062 - val_loss: 0.3414 - val_accuracy: 0.8375\n",
      "Epoch 22/200\n",
      "10/10 [==============================] - 0s 3ms/step - loss: 0.2662 - accuracy: 0.9062 - val_loss: 0.3411 - val_accuracy: 0.8375\n",
      "Epoch 23/200\n",
      "10/10 [==============================] - 0s 3ms/step - loss: 0.2621 - accuracy: 0.9094 - val_loss: 0.3382 - val_accuracy: 0.8375\n",
      "Epoch 24/200\n",
      "10/10 [==============================] - 0s 4ms/step - loss: 0.2587 - accuracy: 0.9094 - val_loss: 0.3365 - val_accuracy: 0.8375\n",
      "Epoch 25/200\n",
      "10/10 [==============================] - 0s 4ms/step - loss: 0.2555 - accuracy: 0.9125 - val_loss: 0.3363 - val_accuracy: 0.8375\n",
      "Epoch 26/200\n",
      "10/10 [==============================] - 0s 4ms/step - loss: 0.2523 - accuracy: 0.9094 - val_loss: 0.3355 - val_accuracy: 0.8375\n",
      "Epoch 27/200\n",
      "10/10 [==============================] - 0s 3ms/step - loss: 0.2493 - accuracy: 0.9094 - val_loss: 0.3353 - val_accuracy: 0.8375\n",
      "Epoch 28/200\n",
      "10/10 [==============================] - 0s 4ms/step - loss: 0.2466 - accuracy: 0.9094 - val_loss: 0.3345 - val_accuracy: 0.8250\n",
      "Epoch 29/200\n",
      "10/10 [==============================] - 0s 4ms/step - loss: 0.2442 - accuracy: 0.9094 - val_loss: 0.3335 - val_accuracy: 0.8250\n",
      "Epoch 30/200\n",
      "10/10 [==============================] - 0s 3ms/step - loss: 0.2413 - accuracy: 0.9094 - val_loss: 0.3345 - val_accuracy: 0.8375\n",
      "Epoch 31/200\n",
      "10/10 [==============================] - 0s 4ms/step - loss: 0.2389 - accuracy: 0.9094 - val_loss: 0.3353 - val_accuracy: 0.8375\n",
      "Epoch 32/200\n",
      "10/10 [==============================] - 0s 4ms/step - loss: 0.2373 - accuracy: 0.9125 - val_loss: 0.3356 - val_accuracy: 0.8375\n",
      "Epoch 33/200\n",
      "10/10 [==============================] - 0s 4ms/step - loss: 0.2359 - accuracy: 0.9125 - val_loss: 0.3377 - val_accuracy: 0.8375\n",
      "Epoch 34/200\n",
      "10/10 [==============================] - 0s 3ms/step - loss: 0.2330 - accuracy: 0.9156 - val_loss: 0.3367 - val_accuracy: 0.8375\n",
      "Epoch 35/200\n",
      "10/10 [==============================] - 0s 4ms/step - loss: 0.2313 - accuracy: 0.9125 - val_loss: 0.3349 - val_accuracy: 0.8375\n",
      "Epoch 36/200\n",
      "10/10 [==============================] - 0s 4ms/step - loss: 0.2296 - accuracy: 0.9125 - val_loss: 0.3362 - val_accuracy: 0.8375\n",
      "Epoch 37/200\n",
      "10/10 [==============================] - 0s 4ms/step - loss: 0.2278 - accuracy: 0.9156 - val_loss: 0.3358 - val_accuracy: 0.8375\n",
      "Epoch 38/200\n",
      "10/10 [==============================] - 0s 3ms/step - loss: 0.2264 - accuracy: 0.9156 - val_loss: 0.3367 - val_accuracy: 0.8375\n",
      "Epoch 39/200\n",
      "10/10 [==============================] - 0s 3ms/step - loss: 0.2249 - accuracy: 0.9156 - val_loss: 0.3374 - val_accuracy: 0.8375\n",
      "Epoch 40/200\n",
      "10/10 [==============================] - 0s 3ms/step - loss: 0.2236 - accuracy: 0.9156 - val_loss: 0.3369 - val_accuracy: 0.8375\n",
      "Epoch 41/200\n",
      "10/10 [==============================] - 0s 3ms/step - loss: 0.2227 - accuracy: 0.9156 - val_loss: 0.3376 - val_accuracy: 0.8375\n",
      "Epoch 42/200\n",
      "10/10 [==============================] - 0s 3ms/step - loss: 0.2210 - accuracy: 0.9187 - val_loss: 0.3388 - val_accuracy: 0.8375\n",
      "Epoch 43/200\n",
      "10/10 [==============================] - 0s 3ms/step - loss: 0.2198 - accuracy: 0.9156 - val_loss: 0.3392 - val_accuracy: 0.8375\n",
      "Epoch 44/200\n",
      "10/10 [==============================] - 0s 3ms/step - loss: 0.2189 - accuracy: 0.9125 - val_loss: 0.3411 - val_accuracy: 0.8375\n",
      "Epoch 45/200\n",
      "10/10 [==============================] - 0s 3ms/step - loss: 0.2175 - accuracy: 0.9187 - val_loss: 0.3413 - val_accuracy: 0.8375\n",
      "Epoch 46/200\n",
      "10/10 [==============================] - 0s 3ms/step - loss: 0.2165 - accuracy: 0.9219 - val_loss: 0.3421 - val_accuracy: 0.8375\n",
      "Epoch 47/200\n",
      "10/10 [==============================] - 0s 4ms/step - loss: 0.2163 - accuracy: 0.9187 - val_loss: 0.3446 - val_accuracy: 0.8375\n",
      "Epoch 48/200\n",
      "10/10 [==============================] - 0s 3ms/step - loss: 0.2151 - accuracy: 0.9187 - val_loss: 0.3444 - val_accuracy: 0.8375\n",
      "Epoch 49/200\n",
      "10/10 [==============================] - 0s 3ms/step - loss: 0.2137 - accuracy: 0.9219 - val_loss: 0.3455 - val_accuracy: 0.8375\n",
      "Epoch 50/200\n",
      "10/10 [==============================] - 0s 3ms/step - loss: 0.2130 - accuracy: 0.9219 - val_loss: 0.3451 - val_accuracy: 0.8375\n",
      "Epoch 51/200\n",
      "10/10 [==============================] - 0s 3ms/step - loss: 0.2124 - accuracy: 0.9250 - val_loss: 0.3465 - val_accuracy: 0.8375\n",
      "Epoch 52/200\n",
      "10/10 [==============================] - 0s 3ms/step - loss: 0.2118 - accuracy: 0.9187 - val_loss: 0.3479 - val_accuracy: 0.8375\n",
      "Epoch 53/200\n",
      "10/10 [==============================] - 0s 3ms/step - loss: 0.2107 - accuracy: 0.9187 - val_loss: 0.3479 - val_accuracy: 0.8500\n",
      "Epoch 54/200\n",
      "10/10 [==============================] - 0s 4ms/step - loss: 0.2103 - accuracy: 0.9219 - val_loss: 0.3470 - val_accuracy: 0.8375\n",
      "Epoch 55/200\n",
      "10/10 [==============================] - 0s 3ms/step - loss: 0.2096 - accuracy: 0.9250 - val_loss: 0.3494 - val_accuracy: 0.8375\n",
      "Epoch 56/200\n",
      "10/10 [==============================] - 0s 3ms/step - loss: 0.2094 - accuracy: 0.9219 - val_loss: 0.3490 - val_accuracy: 0.8375\n",
      "Epoch 57/200\n",
      "10/10 [==============================] - 0s 3ms/step - loss: 0.2085 - accuracy: 0.9219 - val_loss: 0.3502 - val_accuracy: 0.8250\n",
      "Epoch 58/200\n",
      "10/10 [==============================] - 0s 3ms/step - loss: 0.2080 - accuracy: 0.9219 - val_loss: 0.3509 - val_accuracy: 0.8375\n"
     ]
    },
    {
     "name": "stdout",
     "output_type": "stream",
     "text": [
      "Epoch 59/200\n",
      "10/10 [==============================] - 0s 3ms/step - loss: 0.2071 - accuracy: 0.9250 - val_loss: 0.3526 - val_accuracy: 0.8375\n",
      "Epoch 60/200\n",
      "10/10 [==============================] - 0s 3ms/step - loss: 0.2070 - accuracy: 0.9219 - val_loss: 0.3536 - val_accuracy: 0.8250\n",
      "Epoch 61/200\n",
      "10/10 [==============================] - 0s 3ms/step - loss: 0.2063 - accuracy: 0.9219 - val_loss: 0.3533 - val_accuracy: 0.8375\n",
      "Epoch 62/200\n",
      "10/10 [==============================] - 0s 4ms/step - loss: 0.2065 - accuracy: 0.9219 - val_loss: 0.3536 - val_accuracy: 0.8375\n",
      "Epoch 63/200\n",
      "10/10 [==============================] - 0s 3ms/step - loss: 0.2053 - accuracy: 0.9219 - val_loss: 0.3528 - val_accuracy: 0.8375\n",
      "Epoch 64/200\n",
      "10/10 [==============================] - 0s 3ms/step - loss: 0.2051 - accuracy: 0.9187 - val_loss: 0.3528 - val_accuracy: 0.8250\n",
      "Epoch 65/200\n",
      "10/10 [==============================] - 0s 3ms/step - loss: 0.2044 - accuracy: 0.9219 - val_loss: 0.3544 - val_accuracy: 0.8250\n",
      "Epoch 66/200\n",
      "10/10 [==============================] - 0s 3ms/step - loss: 0.2040 - accuracy: 0.9219 - val_loss: 0.3551 - val_accuracy: 0.8250\n",
      "Epoch 67/200\n",
      "10/10 [==============================] - 0s 3ms/step - loss: 0.2039 - accuracy: 0.9219 - val_loss: 0.3568 - val_accuracy: 0.8500\n",
      "Epoch 68/200\n",
      "10/10 [==============================] - 0s 3ms/step - loss: 0.2037 - accuracy: 0.9281 - val_loss: 0.3577 - val_accuracy: 0.8375\n",
      "Epoch 69/200\n",
      "10/10 [==============================] - 0s 4ms/step - loss: 0.2033 - accuracy: 0.9219 - val_loss: 0.3561 - val_accuracy: 0.8375\n",
      "Epoch 70/200\n",
      "10/10 [==============================] - 0s 3ms/step - loss: 0.2028 - accuracy: 0.9219 - val_loss: 0.3576 - val_accuracy: 0.8250\n",
      "Epoch 71/200\n",
      "10/10 [==============================] - 0s 3ms/step - loss: 0.2024 - accuracy: 0.9250 - val_loss: 0.3580 - val_accuracy: 0.8250\n",
      "Epoch 72/200\n",
      "10/10 [==============================] - 0s 3ms/step - loss: 0.2021 - accuracy: 0.9250 - val_loss: 0.3591 - val_accuracy: 0.8375\n",
      "Epoch 73/200\n",
      "10/10 [==============================] - 0s 3ms/step - loss: 0.2026 - accuracy: 0.9281 - val_loss: 0.3604 - val_accuracy: 0.8375\n",
      "Epoch 74/200\n",
      "10/10 [==============================] - 0s 3ms/step - loss: 0.2016 - accuracy: 0.9250 - val_loss: 0.3615 - val_accuracy: 0.8375\n",
      "Epoch 75/200\n",
      "10/10 [==============================] - 0s 3ms/step - loss: 0.2018 - accuracy: 0.9250 - val_loss: 0.3641 - val_accuracy: 0.8500\n",
      "Epoch 76/200\n",
      "10/10 [==============================] - 0s 3ms/step - loss: 0.2010 - accuracy: 0.9281 - val_loss: 0.3632 - val_accuracy: 0.8375\n",
      "Epoch 77/200\n",
      "10/10 [==============================] - 0s 3ms/step - loss: 0.2006 - accuracy: 0.9281 - val_loss: 0.3625 - val_accuracy: 0.8375\n",
      "Epoch 78/200\n",
      "10/10 [==============================] - 0s 3ms/step - loss: 0.2007 - accuracy: 0.9281 - val_loss: 0.3609 - val_accuracy: 0.8375\n",
      "Epoch 79/200\n",
      "10/10 [==============================] - 0s 4ms/step - loss: 0.2001 - accuracy: 0.9250 - val_loss: 0.3617 - val_accuracy: 0.8375\n",
      "Epoch 80/200\n",
      "10/10 [==============================] - 0s 3ms/step - loss: 0.2007 - accuracy: 0.9250 - val_loss: 0.3647 - val_accuracy: 0.8375\n",
      "Epoch 81/200\n",
      "10/10 [==============================] - 0s 3ms/step - loss: 0.1999 - accuracy: 0.9250 - val_loss: 0.3643 - val_accuracy: 0.8375\n",
      "Epoch 82/200\n",
      "10/10 [==============================] - 0s 3ms/step - loss: 0.2003 - accuracy: 0.9250 - val_loss: 0.3646 - val_accuracy: 0.8375\n",
      "Epoch 83/200\n",
      "10/10 [==============================] - 0s 3ms/step - loss: 0.1994 - accuracy: 0.9250 - val_loss: 0.3640 - val_accuracy: 0.8375\n",
      "Epoch 84/200\n",
      "10/10 [==============================] - 0s 3ms/step - loss: 0.1991 - accuracy: 0.9250 - val_loss: 0.3652 - val_accuracy: 0.8375\n",
      "Epoch 85/200\n",
      "10/10 [==============================] - 0s 4ms/step - loss: 0.1990 - accuracy: 0.9250 - val_loss: 0.3659 - val_accuracy: 0.8375\n",
      "Epoch 86/200\n",
      "10/10 [==============================] - 0s 3ms/step - loss: 0.1990 - accuracy: 0.9250 - val_loss: 0.3658 - val_accuracy: 0.8375\n",
      "Epoch 87/200\n",
      "10/10 [==============================] - 0s 3ms/step - loss: 0.1988 - accuracy: 0.9250 - val_loss: 0.3657 - val_accuracy: 0.8375\n",
      "Epoch 88/200\n",
      "10/10 [==============================] - 0s 4ms/step - loss: 0.1986 - accuracy: 0.9281 - val_loss: 0.3656 - val_accuracy: 0.8375\n",
      "Epoch 89/200\n",
      "10/10 [==============================] - 0s 3ms/step - loss: 0.1985 - accuracy: 0.9250 - val_loss: 0.3657 - val_accuracy: 0.8375\n",
      "Epoch 90/200\n",
      "10/10 [==============================] - 0s 3ms/step - loss: 0.1983 - accuracy: 0.9250 - val_loss: 0.3664 - val_accuracy: 0.8375\n",
      "Epoch 91/200\n",
      "10/10 [==============================] - 0s 3ms/step - loss: 0.1986 - accuracy: 0.9219 - val_loss: 0.3683 - val_accuracy: 0.8375\n",
      "Epoch 92/200\n",
      "10/10 [==============================] - 0s 3ms/step - loss: 0.1979 - accuracy: 0.9250 - val_loss: 0.3677 - val_accuracy: 0.8375\n",
      "Epoch 93/200\n",
      "10/10 [==============================] - 0s 3ms/step - loss: 0.1978 - accuracy: 0.9281 - val_loss: 0.3681 - val_accuracy: 0.8375\n",
      "Epoch 94/200\n",
      "10/10 [==============================] - 0s 4ms/step - loss: 0.1981 - accuracy: 0.9281 - val_loss: 0.3692 - val_accuracy: 0.8375\n",
      "Epoch 95/200\n",
      "10/10 [==============================] - 0s 3ms/step - loss: 0.1983 - accuracy: 0.9281 - val_loss: 0.3702 - val_accuracy: 0.8375\n",
      "Epoch 96/200\n",
      "10/10 [==============================] - 0s 3ms/step - loss: 0.1985 - accuracy: 0.9281 - val_loss: 0.3682 - val_accuracy: 0.8375\n",
      "Epoch 97/200\n",
      "10/10 [==============================] - 0s 3ms/step - loss: 0.1973 - accuracy: 0.9250 - val_loss: 0.3690 - val_accuracy: 0.8375\n",
      "Epoch 98/200\n",
      "10/10 [==============================] - 0s 4ms/step - loss: 0.1974 - accuracy: 0.9250 - val_loss: 0.3700 - val_accuracy: 0.8375\n",
      "Epoch 99/200\n",
      "10/10 [==============================] - 0s 3ms/step - loss: 0.1968 - accuracy: 0.9250 - val_loss: 0.3689 - val_accuracy: 0.8375\n",
      "Epoch 100/200\n",
      "10/10 [==============================] - 0s 3ms/step - loss: 0.1973 - accuracy: 0.9281 - val_loss: 0.3687 - val_accuracy: 0.8375\n",
      "Epoch 101/200\n",
      "10/10 [==============================] - 0s 3ms/step - loss: 0.1971 - accuracy: 0.9281 - val_loss: 0.3684 - val_accuracy: 0.8375\n",
      "Epoch 102/200\n",
      "10/10 [==============================] - 0s 3ms/step - loss: 0.1968 - accuracy: 0.9281 - val_loss: 0.3700 - val_accuracy: 0.8375\n",
      "Epoch 103/200\n",
      "10/10 [==============================] - 0s 3ms/step - loss: 0.1963 - accuracy: 0.9250 - val_loss: 0.3692 - val_accuracy: 0.8375\n",
      "Epoch 104/200\n",
      "10/10 [==============================] - 0s 3ms/step - loss: 0.1966 - accuracy: 0.9250 - val_loss: 0.3723 - val_accuracy: 0.8375\n",
      "Epoch 105/200\n",
      "10/10 [==============================] - 0s 3ms/step - loss: 0.1966 - accuracy: 0.9281 - val_loss: 0.3702 - val_accuracy: 0.8375\n",
      "Epoch 106/200\n",
      "10/10 [==============================] - 0s 3ms/step - loss: 0.1960 - accuracy: 0.9281 - val_loss: 0.3692 - val_accuracy: 0.8375\n",
      "Epoch 107/200\n",
      "10/10 [==============================] - 0s 3ms/step - loss: 0.1964 - accuracy: 0.9281 - val_loss: 0.3722 - val_accuracy: 0.8375\n",
      "Epoch 108/200\n",
      "10/10 [==============================] - 0s 3ms/step - loss: 0.1962 - accuracy: 0.9281 - val_loss: 0.3704 - val_accuracy: 0.8375\n",
      "Epoch 109/200\n",
      "10/10 [==============================] - 0s 4ms/step - loss: 0.1960 - accuracy: 0.9250 - val_loss: 0.3724 - val_accuracy: 0.8375\n",
      "Epoch 110/200\n",
      "10/10 [==============================] - 0s 4ms/step - loss: 0.1959 - accuracy: 0.9250 - val_loss: 0.3716 - val_accuracy: 0.8375\n",
      "Epoch 111/200\n",
      "10/10 [==============================] - 0s 3ms/step - loss: 0.1959 - accuracy: 0.9250 - val_loss: 0.3704 - val_accuracy: 0.8375\n",
      "Epoch 112/200\n",
      "10/10 [==============================] - 0s 4ms/step - loss: 0.1955 - accuracy: 0.9281 - val_loss: 0.3723 - val_accuracy: 0.8375\n",
      "Epoch 113/200\n",
      "10/10 [==============================] - 0s 4ms/step - loss: 0.1952 - accuracy: 0.9312 - val_loss: 0.3722 - val_accuracy: 0.8375\n",
      "Epoch 114/200\n",
      "10/10 [==============================] - 0s 3ms/step - loss: 0.1955 - accuracy: 0.9281 - val_loss: 0.3711 - val_accuracy: 0.8375\n",
      "Epoch 115/200\n",
      "10/10 [==============================] - 0s 4ms/step - loss: 0.1954 - accuracy: 0.9281 - val_loss: 0.3711 - val_accuracy: 0.8375\n",
      "Epoch 116/200\n"
     ]
    },
    {
     "name": "stdout",
     "output_type": "stream",
     "text": [
      "10/10 [==============================] - 0s 3ms/step - loss: 0.1948 - accuracy: 0.9281 - val_loss: 0.3713 - val_accuracy: 0.8375\n",
      "Epoch 117/200\n",
      "10/10 [==============================] - 0s 4ms/step - loss: 0.1956 - accuracy: 0.9281 - val_loss: 0.3737 - val_accuracy: 0.8375\n",
      "Epoch 118/200\n",
      "10/10 [==============================] - 0s 3ms/step - loss: 0.1948 - accuracy: 0.9281 - val_loss: 0.3726 - val_accuracy: 0.8375\n",
      "Epoch 119/200\n",
      "10/10 [==============================] - 0s 3ms/step - loss: 0.1949 - accuracy: 0.9312 - val_loss: 0.3714 - val_accuracy: 0.8375\n",
      "Epoch 120/200\n",
      "10/10 [==============================] - 0s 4ms/step - loss: 0.1946 - accuracy: 0.9281 - val_loss: 0.3708 - val_accuracy: 0.8375\n",
      "Epoch 121/200\n",
      "10/10 [==============================] - 0s 3ms/step - loss: 0.1948 - accuracy: 0.9281 - val_loss: 0.3710 - val_accuracy: 0.8375\n",
      "Epoch 122/200\n",
      "10/10 [==============================] - 0s 4ms/step - loss: 0.1947 - accuracy: 0.9250 - val_loss: 0.3730 - val_accuracy: 0.8375\n",
      "Epoch 123/200\n",
      "10/10 [==============================] - 0s 4ms/step - loss: 0.1946 - accuracy: 0.9250 - val_loss: 0.3728 - val_accuracy: 0.8375\n",
      "Epoch 124/200\n",
      "10/10 [==============================] - 0s 4ms/step - loss: 0.1940 - accuracy: 0.9281 - val_loss: 0.3716 - val_accuracy: 0.8375\n",
      "Epoch 125/200\n",
      "10/10 [==============================] - 0s 4ms/step - loss: 0.1945 - accuracy: 0.9312 - val_loss: 0.3715 - val_accuracy: 0.8500\n",
      "Epoch 126/200\n",
      "10/10 [==============================] - 0s 3ms/step - loss: 0.1943 - accuracy: 0.9312 - val_loss: 0.3731 - val_accuracy: 0.8375\n",
      "Epoch 127/200\n",
      "10/10 [==============================] - 0s 3ms/step - loss: 0.1953 - accuracy: 0.9281 - val_loss: 0.3722 - val_accuracy: 0.8375\n",
      "Epoch 128/200\n",
      "10/10 [==============================] - 0s 4ms/step - loss: 0.1940 - accuracy: 0.9281 - val_loss: 0.3727 - val_accuracy: 0.8375\n",
      "Epoch 129/200\n",
      "10/10 [==============================] - 0s 3ms/step - loss: 0.1938 - accuracy: 0.9281 - val_loss: 0.3719 - val_accuracy: 0.8375\n",
      "Epoch 130/200\n",
      "10/10 [==============================] - 0s 3ms/step - loss: 0.1939 - accuracy: 0.9312 - val_loss: 0.3724 - val_accuracy: 0.8500\n",
      "Epoch 131/200\n",
      "10/10 [==============================] - 0s 3ms/step - loss: 0.1940 - accuracy: 0.9312 - val_loss: 0.3728 - val_accuracy: 0.8375\n",
      "Epoch 132/200\n",
      "10/10 [==============================] - 0s 3ms/step - loss: 0.1937 - accuracy: 0.9312 - val_loss: 0.3722 - val_accuracy: 0.8500\n",
      "Epoch 133/200\n",
      "10/10 [==============================] - 0s 3ms/step - loss: 0.1939 - accuracy: 0.9281 - val_loss: 0.3732 - val_accuracy: 0.8375\n",
      "Epoch 134/200\n",
      "10/10 [==============================] - 0s 3ms/step - loss: 0.1936 - accuracy: 0.9312 - val_loss: 0.3752 - val_accuracy: 0.8375\n",
      "Epoch 135/200\n",
      "10/10 [==============================] - 0s 4ms/step - loss: 0.1933 - accuracy: 0.9281 - val_loss: 0.3725 - val_accuracy: 0.8375\n",
      "Epoch 136/200\n",
      "10/10 [==============================] - 0s 3ms/step - loss: 0.1931 - accuracy: 0.9312 - val_loss: 0.3722 - val_accuracy: 0.8500\n",
      "Epoch 137/200\n",
      "10/10 [==============================] - 0s 3ms/step - loss: 0.1940 - accuracy: 0.9281 - val_loss: 0.3726 - val_accuracy: 0.8500\n",
      "Epoch 138/200\n",
      "10/10 [==============================] - 0s 3ms/step - loss: 0.1938 - accuracy: 0.9312 - val_loss: 0.3744 - val_accuracy: 0.8375\n",
      "Epoch 139/200\n",
      "10/10 [==============================] - 0s 3ms/step - loss: 0.1933 - accuracy: 0.9281 - val_loss: 0.3743 - val_accuracy: 0.8375\n",
      "Epoch 140/200\n",
      "10/10 [==============================] - 0s 3ms/step - loss: 0.1930 - accuracy: 0.9312 - val_loss: 0.3734 - val_accuracy: 0.8500\n",
      "Epoch 141/200\n",
      "10/10 [==============================] - 0s 3ms/step - loss: 0.1935 - accuracy: 0.9281 - val_loss: 0.3718 - val_accuracy: 0.8500\n",
      "Epoch 142/200\n",
      "10/10 [==============================] - 0s 3ms/step - loss: 0.1933 - accuracy: 0.9281 - val_loss: 0.3726 - val_accuracy: 0.8500\n",
      "Epoch 143/200\n",
      "10/10 [==============================] - 0s 4ms/step - loss: 0.1928 - accuracy: 0.9281 - val_loss: 0.3725 - val_accuracy: 0.8500\n",
      "Epoch 144/200\n",
      "10/10 [==============================] - 0s 4ms/step - loss: 0.1930 - accuracy: 0.9312 - val_loss: 0.3738 - val_accuracy: 0.8500\n",
      "Epoch 145/200\n",
      "10/10 [==============================] - 0s 3ms/step - loss: 0.1937 - accuracy: 0.9281 - val_loss: 0.3746 - val_accuracy: 0.8375\n",
      "Epoch 146/200\n",
      "10/10 [==============================] - 0s 3ms/step - loss: 0.1925 - accuracy: 0.9250 - val_loss: 0.3727 - val_accuracy: 0.8500\n",
      "Epoch 147/200\n",
      "10/10 [==============================] - 0s 3ms/step - loss: 0.1928 - accuracy: 0.9312 - val_loss: 0.3723 - val_accuracy: 0.8500\n",
      "Epoch 148/200\n",
      "10/10 [==============================] - 0s 4ms/step - loss: 0.1923 - accuracy: 0.9312 - val_loss: 0.3731 - val_accuracy: 0.8500\n",
      "Epoch 149/200\n",
      "10/10 [==============================] - 0s 3ms/step - loss: 0.1926 - accuracy: 0.9312 - val_loss: 0.3726 - val_accuracy: 0.8500\n",
      "Epoch 150/200\n",
      "10/10 [==============================] - 0s 3ms/step - loss: 0.1922 - accuracy: 0.9312 - val_loss: 0.3730 - val_accuracy: 0.8500\n",
      "Epoch 151/200\n",
      "10/10 [==============================] - 0s 3ms/step - loss: 0.1923 - accuracy: 0.9312 - val_loss: 0.3737 - val_accuracy: 0.8500\n",
      "Epoch 152/200\n",
      "10/10 [==============================] - 0s 3ms/step - loss: 0.1925 - accuracy: 0.9312 - val_loss: 0.3742 - val_accuracy: 0.8500\n",
      "Epoch 153/200\n",
      "10/10 [==============================] - 0s 3ms/step - loss: 0.1925 - accuracy: 0.9312 - val_loss: 0.3745 - val_accuracy: 0.8500\n",
      "Epoch 154/200\n",
      "10/10 [==============================] - 0s 3ms/step - loss: 0.1921 - accuracy: 0.9281 - val_loss: 0.3743 - val_accuracy: 0.8500\n",
      "Epoch 155/200\n",
      "10/10 [==============================] - 0s 4ms/step - loss: 0.1922 - accuracy: 0.9281 - val_loss: 0.3734 - val_accuracy: 0.8500\n",
      "Epoch 156/200\n",
      "10/10 [==============================] - 0s 3ms/step - loss: 0.1928 - accuracy: 0.9250 - val_loss: 0.3733 - val_accuracy: 0.8500\n",
      "Epoch 157/200\n",
      "10/10 [==============================] - 0s 3ms/step - loss: 0.1918 - accuracy: 0.9312 - val_loss: 0.3721 - val_accuracy: 0.8500\n",
      "Epoch 158/200\n",
      "10/10 [==============================] - 0s 4ms/step - loss: 0.1923 - accuracy: 0.9250 - val_loss: 0.3728 - val_accuracy: 0.8500\n",
      "Epoch 159/200\n",
      "10/10 [==============================] - 0s 4ms/step - loss: 0.1922 - accuracy: 0.9281 - val_loss: 0.3726 - val_accuracy: 0.8500\n",
      "Epoch 160/200\n",
      "10/10 [==============================] - 0s 3ms/step - loss: 0.1919 - accuracy: 0.9312 - val_loss: 0.3738 - val_accuracy: 0.8500\n",
      "Epoch 161/200\n",
      "10/10 [==============================] - 0s 3ms/step - loss: 0.1918 - accuracy: 0.9281 - val_loss: 0.3721 - val_accuracy: 0.8500\n",
      "Epoch 162/200\n",
      "10/10 [==============================] - 0s 3ms/step - loss: 0.1915 - accuracy: 0.9281 - val_loss: 0.3723 - val_accuracy: 0.8500\n",
      "Epoch 163/200\n",
      "10/10 [==============================] - 0s 3ms/step - loss: 0.1916 - accuracy: 0.9250 - val_loss: 0.3736 - val_accuracy: 0.8500\n",
      "Epoch 164/200\n",
      "10/10 [==============================] - 0s 3ms/step - loss: 0.1913 - accuracy: 0.9281 - val_loss: 0.3736 - val_accuracy: 0.8500\n",
      "Epoch 165/200\n",
      "10/10 [==============================] - 0s 3ms/step - loss: 0.1917 - accuracy: 0.9281 - val_loss: 0.3737 - val_accuracy: 0.8500\n",
      "Epoch 166/200\n",
      "10/10 [==============================] - 0s 3ms/step - loss: 0.1921 - accuracy: 0.9281 - val_loss: 0.3718 - val_accuracy: 0.8500\n",
      "Epoch 167/200\n",
      "10/10 [==============================] - 0s 3ms/step - loss: 0.1918 - accuracy: 0.9281 - val_loss: 0.3722 - val_accuracy: 0.8500\n",
      "Epoch 168/200\n",
      "10/10 [==============================] - 0s 4ms/step - loss: 0.1917 - accuracy: 0.9312 - val_loss: 0.3730 - val_accuracy: 0.8500\n",
      "Epoch 169/200\n",
      "10/10 [==============================] - 0s 4ms/step - loss: 0.1912 - accuracy: 0.9312 - val_loss: 0.3736 - val_accuracy: 0.8500\n",
      "Epoch 170/200\n",
      "10/10 [==============================] - 0s 4ms/step - loss: 0.1913 - accuracy: 0.9281 - val_loss: 0.3736 - val_accuracy: 0.8500\n",
      "Epoch 171/200\n",
      "10/10 [==============================] - 0s 3ms/step - loss: 0.1913 - accuracy: 0.9250 - val_loss: 0.3721 - val_accuracy: 0.8500\n",
      "Epoch 172/200\n",
      "10/10 [==============================] - 0s 3ms/step - loss: 0.1908 - accuracy: 0.9281 - val_loss: 0.3710 - val_accuracy: 0.8500\n",
      "Epoch 173/200\n"
     ]
    },
    {
     "name": "stdout",
     "output_type": "stream",
     "text": [
      "10/10 [==============================] - 0s 4ms/step - loss: 0.1907 - accuracy: 0.9281 - val_loss: 0.3721 - val_accuracy: 0.8500\n",
      "Epoch 174/200\n",
      "10/10 [==============================] - 0s 3ms/step - loss: 0.1908 - accuracy: 0.9312 - val_loss: 0.3723 - val_accuracy: 0.8500\n",
      "Epoch 175/200\n",
      "10/10 [==============================] - 0s 4ms/step - loss: 0.1910 - accuracy: 0.9312 - val_loss: 0.3709 - val_accuracy: 0.8500\n",
      "Epoch 176/200\n",
      "10/10 [==============================] - 0s 3ms/step - loss: 0.1906 - accuracy: 0.9312 - val_loss: 0.3726 - val_accuracy: 0.8500\n",
      "Epoch 177/200\n",
      "10/10 [==============================] - 0s 4ms/step - loss: 0.1907 - accuracy: 0.9281 - val_loss: 0.3726 - val_accuracy: 0.8500\n",
      "Epoch 178/200\n",
      "10/10 [==============================] - 0s 4ms/step - loss: 0.1903 - accuracy: 0.9281 - val_loss: 0.3728 - val_accuracy: 0.8500\n",
      "Epoch 179/200\n",
      "10/10 [==============================] - 0s 3ms/step - loss: 0.1903 - accuracy: 0.9250 - val_loss: 0.3720 - val_accuracy: 0.8500\n",
      "Epoch 180/200\n",
      "10/10 [==============================] - 0s 3ms/step - loss: 0.1910 - accuracy: 0.9250 - val_loss: 0.3727 - val_accuracy: 0.8500\n",
      "Epoch 181/200\n",
      "10/10 [==============================] - 0s 3ms/step - loss: 0.1902 - accuracy: 0.9281 - val_loss: 0.3723 - val_accuracy: 0.8500\n",
      "Epoch 182/200\n",
      "10/10 [==============================] - 0s 3ms/step - loss: 0.1902 - accuracy: 0.9281 - val_loss: 0.3723 - val_accuracy: 0.8500\n",
      "Epoch 183/200\n",
      "10/10 [==============================] - 0s 3ms/step - loss: 0.1902 - accuracy: 0.9281 - val_loss: 0.3724 - val_accuracy: 0.8500\n",
      "Epoch 184/200\n",
      "10/10 [==============================] - 0s 3ms/step - loss: 0.1903 - accuracy: 0.9281 - val_loss: 0.3704 - val_accuracy: 0.8500\n",
      "Epoch 185/200\n",
      "10/10 [==============================] - 0s 3ms/step - loss: 0.1909 - accuracy: 0.9281 - val_loss: 0.3694 - val_accuracy: 0.8500\n",
      "Epoch 186/200\n",
      "10/10 [==============================] - 0s 4ms/step - loss: 0.1901 - accuracy: 0.9281 - val_loss: 0.3704 - val_accuracy: 0.8500\n",
      "Epoch 187/200\n",
      "10/10 [==============================] - 0s 4ms/step - loss: 0.1900 - accuracy: 0.9312 - val_loss: 0.3690 - val_accuracy: 0.8500\n",
      "Epoch 188/200\n",
      "10/10 [==============================] - 0s 3ms/step - loss: 0.1909 - accuracy: 0.9312 - val_loss: 0.3728 - val_accuracy: 0.8500\n",
      "Epoch 189/200\n",
      "10/10 [==============================] - 0s 4ms/step - loss: 0.1896 - accuracy: 0.9281 - val_loss: 0.3718 - val_accuracy: 0.8500\n",
      "Epoch 190/200\n",
      "10/10 [==============================] - 0s 4ms/step - loss: 0.1901 - accuracy: 0.9281 - val_loss: 0.3705 - val_accuracy: 0.8500\n",
      "Epoch 191/200\n",
      "10/10 [==============================] - 0s 4ms/step - loss: 0.1897 - accuracy: 0.9281 - val_loss: 0.3685 - val_accuracy: 0.8500\n",
      "Epoch 192/200\n",
      "10/10 [==============================] - 0s 3ms/step - loss: 0.1902 - accuracy: 0.9281 - val_loss: 0.3717 - val_accuracy: 0.8500\n",
      "Epoch 193/200\n",
      "10/10 [==============================] - 0s 3ms/step - loss: 0.1897 - accuracy: 0.9281 - val_loss: 0.3718 - val_accuracy: 0.8500\n",
      "Epoch 194/200\n",
      "10/10 [==============================] - 0s 3ms/step - loss: 0.1893 - accuracy: 0.9281 - val_loss: 0.3700 - val_accuracy: 0.8500\n",
      "Epoch 195/200\n",
      "10/10 [==============================] - 0s 3ms/step - loss: 0.1892 - accuracy: 0.9250 - val_loss: 0.3694 - val_accuracy: 0.8500\n",
      "Epoch 196/200\n",
      "10/10 [==============================] - 0s 3ms/step - loss: 0.1893 - accuracy: 0.9281 - val_loss: 0.3707 - val_accuracy: 0.8500\n",
      "Epoch 197/200\n",
      "10/10 [==============================] - 0s 3ms/step - loss: 0.1895 - accuracy: 0.9281 - val_loss: 0.3713 - val_accuracy: 0.8500\n",
      "Epoch 198/200\n",
      "10/10 [==============================] - 0s 3ms/step - loss: 0.1892 - accuracy: 0.9281 - val_loss: 0.3692 - val_accuracy: 0.8500\n",
      "Epoch 199/200\n",
      "10/10 [==============================] - 0s 3ms/step - loss: 0.1895 - accuracy: 0.9281 - val_loss: 0.3695 - val_accuracy: 0.8500\n",
      "Epoch 200/200\n",
      "10/10 [==============================] - 0s 3ms/step - loss: 0.1893 - accuracy: 0.9281 - val_loss: 0.3705 - val_accuracy: 0.8500\n"
     ]
    }
   ],
   "source": [
    "model2 = Sequential()\n",
    "model2.add(Dense(128, activation = 'relu', input_dim=3))\n",
    "model2.add(Dense(1, activation='sigmoid'))\n",
    "model2.compile(loss='binary_crossentropy', optimizer='adam', metrics=['accuracy'])\n",
    "history2 = model2.fit(x_train_scaled, y_train, validation_data=(x_test_scaled, y_test), epochs=200)"
   ]
  },
  {
   "cell_type": "code",
   "execution_count": 21,
   "metadata": {
    "colab": {
     "base_uri": "https://localhost:8080/",
     "height": 283
    },
    "id": "Iv322py0Ct4I",
    "outputId": "4d728e45-8ba7-4b91-f60d-57952299a652"
   },
   "outputs": [
    {
     "data": {
      "text/plain": [
       "[<matplotlib.lines.Line2D at 0x2a21d04f640>]"
      ]
     },
     "execution_count": 21,
     "metadata": {},
     "output_type": "execute_result"
    },
    {
     "data": {
      "image/png": "[encoded data removed]",
      "text/plain": [
       "<Figure size 432x288 with 1 Axes>"
      ]
     },
     "metadata": {
      "needs_background": "light"
     },
     "output_type": "display_data"
    }
   ],
   "source": [
    "# Visualize the model performance\n",
    "plt.plot(history2.history['val_accuracy'])"
   ]
  },
  {
   "cell_type": "code",
   "execution_count": 22,
   "metadata": {
    "id": "9-jt9RalCt78"
   },
   "outputs": [],
   "source": [
    "# Model gives stable and High accuracy after Standardization"
   ]
  }
 ],
 "metadata": {
  "accelerator": "GPU",
  "colab": {
   "provenance": []
  },
  "gpuClass": "standard",
  "kernelspec": {
   "display_name": "Python 3 (ipykernel)",
   "language": "python",
   "name": "python3"
  },
  "language_info": {
   "codemirror_mode": {
    "name": "ipython",
    "version": 3
   },
   "file_extension": ".py",
   "mimetype": "text/x-python",
   "name": "python",
   "nbconvert_exporter": "python",
   "pygments_lexer": "ipython3",
   "version": "3.9.7"
  }
 },
 "nbformat": 4,
 "nbformat_minor": 1
}
