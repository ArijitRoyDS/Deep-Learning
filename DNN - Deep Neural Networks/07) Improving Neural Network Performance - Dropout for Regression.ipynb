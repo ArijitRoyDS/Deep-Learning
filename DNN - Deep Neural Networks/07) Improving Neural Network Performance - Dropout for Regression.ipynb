{
 "cells": [
  {
   "cell_type": "markdown",
   "metadata": {
    "id": "hAEFOSC8fbQE"
   },
   "source": [
    "# Methods for Improving Neural Network Performance "
   ]
  },
  {
   "cell_type": "markdown",
   "metadata": {},
   "source": [
    "1) Early Stopping\n",
    "\n",
    "2) Regularization (L1 and L2)\n",
    "\n",
    "3) Dropout Layers\n",
    "\n",
    "4) Reduce complexity or Increase Dataset"
   ]
  },
  {
   "cell_type": "markdown",
   "metadata": {},
   "source": [
    "# Dropout Method"
   ]
  },
  {
   "cell_type": "markdown",
   "metadata": {},
   "source": [
    "Dropout is a regularization technique commonly used in deep neural networks (DNNs) to prevent overfitting and improve generalization performance. It involves temporarily \"dropping out\" (i.e., setting to zero) a random subset of the neurons in a neural network layer during training. "
   ]
  },
  {
   "cell_type": "markdown",
   "metadata": {},
   "source": [
    "So this is similar to Ensemble Technique used in Randon Forest where for each epoch, random inputs or neurons are dropped out to introduce generalization. Dropout can be added as a percentage between each pair of hidden layers and model will drop that fraction of outputs between hidden layers.\n",
    "\n",
    "Apply Dropout in the last hidden layer and propagate backwards based on accuracy outcomes"
   ]
  },
  {
   "cell_type": "markdown",
   "metadata": {},
   "source": [
    "DNN / ANN  --> Dropout = 20 - 50%\n",
    "\n",
    "CNN        --> Dropout = 40 - 50%\n",
    "\n",
    "RNN / LSTM --> Dropout = 20 - 30%"
   ]
  },
  {
   "cell_type": "code",
   "execution_count": 2,
   "metadata": {
    "id": "zQIiO0LjA_qM"
   },
   "outputs": [],
   "source": [
    "import numpy as np\n",
    "import pandas as pd\n",
    "import matplotlib.pyplot as plt\n",
    "import seaborn as sns\n",
    "sns.set()\n",
    "%matplotlib inline\n",
    "from pylab import rcParams\n",
    "import warnings\n",
    "warnings.filterwarnings('ignore')\n",
    "import tensorflow as tf\n",
    "import keras\n",
    "from tensorflow.keras.models import Sequential\n",
    "from tensorflow.keras.layers import Dense\n",
    "from tensorflow.keras.layers import Dropout ###************\n",
    "from tensorflow.keras.callbacks import EarlyStopping ########**************\n",
    "from sklearn.model_selection import train_test_split\n",
    "from mlxtend.plotting import plot_decision_regions\n",
    "from sklearn.datasets import make_circles"
   ]
  },
  {
   "cell_type": "markdown",
   "metadata": {},
   "source": [
    "# Generate your own dataset"
   ]
  },
  {
   "cell_type": "code",
   "execution_count": 3,
   "metadata": {
    "id": "gWBfjx68OdDL"
   },
   "outputs": [],
   "source": [
    "X_train = np.linspace(-1, 1, 20)"
   ]
  },
  {
   "cell_type": "code",
   "execution_count": 4,
   "metadata": {
    "id": "HHgAbMkwdqcJ"
   },
   "outputs": [],
   "source": [
    "y_train = np.array([-0.6561 , -0.3099 , -0.59035, -0.50855, -0.285  , \n",
    "                    -0.2443 , -0.02445,  0.00135, -0.2006 ,  0.07475, \n",
    "                    -0.1422 ,  0.06515,  0.15265,  0.3521 ,  0.28415,  \n",
    "                    0.5524 ,  0.23115,  0.20835, 0.4211,  0.60485])"
   ]
  },
  {
   "cell_type": "code",
   "execution_count": 5,
   "metadata": {
    "id": "-3T0MiSMRU88"
   },
   "outputs": [],
   "source": [
    "X_test = np.linspace(-1, 1, 20)"
   ]
  },
  {
   "cell_type": "code",
   "execution_count": 6,
   "metadata": {
    "id": "T13ENwBmRVAC"
   },
   "outputs": [],
   "source": [
    "y_test = np.array([-0.69415, -0.451  , -0.43005, -0.4484 , -0.1475 ,\n",
    "                   -0.5019 , -0.28055,  0.24595, -0.21425, -0.0286 ,  \n",
    "                   0.23415,  0.46575, 0.07955,  0.1973 ,  0.0719 ,\n",
    "                   0.3639 ,  0.5536 ,  0.3365 , 0.50705,  0.33435])"
   ]
  },
  {
   "cell_type": "code",
   "execution_count": 7,
   "metadata": {
    "colab": {
     "base_uri": "https://localhost:8080/",
     "height": 268
    },
    "id": "5dxX6HI77tdw",
    "outputId": "40fde8c3-137b-4d08-9afd-81da0a037a86"
   },
   "outputs": [
    {
     "data": {
      "image/png": "[encoded data removed]",
      "text/plain": [
       "<Figure size 432x288 with 1 Axes>"
      ]
     },
     "metadata": {
      "needs_background": "light"
     },
     "output_type": "display_data"
    }
   ],
   "source": [
    "plt.scatter(X_train, y_train, c='red', label='Train')\n",
    "plt.scatter(X_test, y_test, c='blue', label='Test')\n",
    "plt.legend()\n",
    "plt.show()"
   ]
  },
  {
   "cell_type": "markdown",
   "metadata": {},
   "source": [
    "# Build a basic Sequential Model without Dropout"
   ]
  },
  {
   "cell_type": "code",
   "execution_count": 10,
   "metadata": {
    "id": "Rmk6d2cxBo7S"
   },
   "outputs": [],
   "source": [
    "model_1 = Sequential()\n",
    "model_1.add(Dense(128, input_dim=1, activation = 'relu'))\n",
    "model_1.add(Dense(128, activation = 'relu'))\n",
    "model_1.add(Dense(1, activation = 'linear'))       # activation = 'linear' since it's a linear regression problem\n",
    "model_1.compile(loss='mse', optimizer='adam', metrics=['mse'])    # loss='mse' & metrics=['mse'] as it's a linear reg problem\n",
    "history = model_1.fit(X_train, y_train, epochs=500, validation_data = (X_test, y_test), verbose=False)"
   ]
  },
  {
   "cell_type": "code",
   "execution_count": 14,
   "metadata": {
    "colab": {
     "base_uri": "https://localhost:8080/"
    },
    "id": "1E6XwbhTBo-V",
    "outputId": "56569b87-3a34-42a6-f94e-b7592297a983"
   },
   "outputs": [
    {
     "name": "stdout",
     "output_type": "stream",
     "text": [
      "Train : 0.99%, Test : 3.84%\n"
     ]
    }
   ],
   "source": [
    "# Evaluate the model\n",
    "_, train_mse = model_1.evaluate(X_train, y_train, verbose=0)\n",
    "_, test_mse = model_1.evaluate(X_test, y_test, verbose=0)\n",
    "print('Train : {}%, Test : {}%'.format(round(train_mse*100, 2), round(test_mse*100, 2)))\n",
    "# High variance between Train and Test error"
   ]
  },
  {
   "cell_type": "markdown",
   "metadata": {},
   "source": [
    "# Build another model with Dropout"
   ]
  },
  {
   "cell_type": "code",
   "execution_count": 18,
   "metadata": {
    "id": "Uww-vs25BpBW"
   },
   "outputs": [],
   "source": [
    "model_2 = Sequential()\n",
    "model_2.add(Dense(128, input_dim=1, activation = 'relu'))\n",
    "\n",
    "# Add a Dropout\n",
    "model_2.add(Dropout(0.2))                                  \n",
    "model_2.add(Dense(128, activation = 'relu'))\n",
    "\n",
    "# Add another Dropout\n",
    "model_2.add(Dropout(0.2))\n",
    "model_2.add(Dense(1, activation = 'linear'))\n",
    "\n",
    "model_2.compile(loss='mse', optimizer='adam', metrics=['mse'])\n",
    "history = model_2.fit(X_train, y_train, epochs=500, validation_data = (X_test, y_test), verbose=False)"
   ]
  },
  {
   "cell_type": "code",
   "execution_count": 17,
   "metadata": {
    "colab": {
     "base_uri": "https://localhost:8080/"
    },
    "id": "7OoU5UPADvPQ",
    "outputId": "a435337f-ea16-4719-cdac-e0f3d0f30e74"
   },
   "outputs": [
    {
     "name": "stdout",
     "output_type": "stream",
     "text": [
      "Train : 1.33%, Test : 3.45%\n"
     ]
    }
   ],
   "source": [
    "# evaluate the model\n",
    "_,train_mse = model_2.evaluate(X_train, y_train, verbose=0)\n",
    "_,test_mse = model_2.evaluate(X_test, y_test, verbose=0)\n",
    "print('Train : {}%, Test : {}%'.format(round(train_mse*100, 2), round(test_mse*100, 2)))"
   ]
  },
  {
   "cell_type": "markdown",
   "metadata": {},
   "source": [
    "# Build another model by varying the Dropout"
   ]
  },
  {
   "cell_type": "code",
   "execution_count": 39,
   "metadata": {
    "id": "hI7woluZD7b4"
   },
   "outputs": [],
   "source": [
    "model_3 = Sequential()\n",
    "model_3.add(Dense(128, input_dim=1, activation = 'relu'))\n",
    "\n",
    "# Add a Dropout\n",
    "model_3.add(Dropout(0.2))  \n",
    "model_3.add(Dense(128, activation = 'relu'))\n",
    "\n",
    "# Add a Dropout\n",
    "model_3.add(Dropout(0.2))\n",
    "model_3.add(Dense(128, activation = 'relu'))\n",
    "\n",
    "# Add a Dropout\n",
    "model_3.add(Dropout(0.2))\n",
    "model_3.add(Dense(1, activation = 'linear'))\n",
    "\n",
    "# Add a Dropout\n",
    "model_3.add(Dropout(0.2))\n",
    "model_3.compile(loss='mse', optimizer='adam', metrics=['mse'])\n",
    "history = model_3.fit(X_train, y_train, epochs=500, validation_data = (X_test, y_test), verbose=False)"
   ]
  },
  {
   "cell_type": "code",
   "execution_count": 40,
   "metadata": {
    "colab": {
     "base_uri": "https://localhost:8080/"
    },
    "id": "qaMMWBuOD7lf",
    "outputId": "28cb335e-5a7d-429b-b6fc-1740e297fdab"
   },
   "outputs": [
    {
     "name": "stdout",
     "output_type": "stream",
     "text": [
      "Train : 2.21%, Test : 4.14%\n"
     ]
    }
   ],
   "source": [
    "# evaluate the model\n",
    "_,train_mse = model_3.evaluate(X_train, y_train, verbose=0)\n",
    "_,test_mse = model_3.evaluate(X_test, y_test, verbose=0)\n",
    "print('Train : {}%, Test : {}%'.format(round(train_mse*100, 2), round(test_mse*100, 2)))"
   ]
  },
  {
   "cell_type": "code",
   "execution_count": 41,
   "metadata": {},
   "outputs": [],
   "source": [
    "# This way we can vary the Dropout Percentage and get better accuracies"
   ]
  },
  {
   "cell_type": "code",
   "execution_count": null,
   "metadata": {},
   "outputs": [],
   "source": []
  }
 ],
 "metadata": {
  "accelerator": "GPU",
  "colab": {
   "collapsed_sections": [],
   "provenance": []
  },
  "gpuClass": "standard",
  "kernelspec": {
   "display_name": "Python 3 (ipykernel)",
   "language": "python",
   "name": "python3"
  },
  "language_info": {
   "codemirror_mode": {
    "name": "ipython",
    "version": 3
   },
   "file_extension": ".py",
   "mimetype": "text/x-python",
   "name": "python",
   "nbconvert_exporter": "python",
   "pygments_lexer": "ipython3",
   "version": "3.9.7"
  }
 },
 "nbformat": 4,
 "nbformat_minor": 1
}
